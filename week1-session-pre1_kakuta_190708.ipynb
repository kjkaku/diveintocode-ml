{
 "cells": [
  {
   "cell_type": "markdown",
   "metadata": {},
   "source": [
    "## Week1 授業前課題1　Pythonを使ってみよう"
   ]
  },
  {
   "cell_type": "markdown",
   "metadata": {},
   "source": [
    "### 【問題１】べき乗の算術演算子を使用して作成\n",
    "・雛形である紙を1回折った時のプログラムを、43回折った時のコードに書き替える\n",
    "・べき乗の算術演算子を使用する"
   ]
  },
  {
   "cell_type": "code",
   "execution_count": 1,
   "metadata": {},
   "outputs": [
    {
     "name": "stdout",
     "output_type": "stream",
     "text": [
      "厚さ： 703687441.77664メートル\n"
     ]
    }
   ],
   "source": [
    "# 紙1枚の厚さ\n",
    "THICKNESS = 0.00008\n",
    "\n",
    "# 紙1枚折ったときに増える量(*2)\n",
    "n = 2\n",
    "\n",
    "# 紙を折る回数\n",
    "times = 43\n",
    "\n",
    "# 折った時の厚みを計算する式\n",
    "folded_thickness = THICKNESS * n ** times\n",
    "\n",
    "print(\"厚さ： {}メートル\".format(folded_thickness))"
   ]
  },
  {
   "cell_type": "markdown",
   "metadata": {},
   "source": [
    "＿＿＿＿＿＿＿＿＿＿＿＿＿＿＿＿＿＿＿＿＿＿＿＿＿＿＿＿＿＿＿＿＿＿＿＿＿＿＿＿＿＿＿＿＿＿＿＿＿＿＿＿＿＿＿＿＿＿＿＿＿＿＿＿＿＿＿\n",
    "### 【問題２】単位の変換\n",
    "・サンプルコードでのキロメートル表示を万キロメートル単位に変換するコードに書き替える"
   ]
  },
  {
   "cell_type": "code",
   "execution_count": 2,
   "metadata": {},
   "outputs": [
    {
     "name": "stdout",
     "output_type": "stream",
     "text": [
      "厚さ： 70.37万キロメートル\n"
     ]
    }
   ],
   "source": [
    "# メートルをキロメートルに変換して小数点以下2桁で表示する\n",
    "\n",
    "# キロメートルに変換する変数\n",
    "change_to_km = 1 / 1000\n",
    "# 万キロメートルに変換する変数\n",
    "change_to_10000km = change_to_km / 10000\n",
    "\n",
    "print(\"厚さ： {:.2f}万キロメートル\".format(folded_thickness * change_to_10000km))"
   ]
  },
  {
   "cell_type": "markdown",
   "metadata": {},
   "source": [
    "＿＿＿＿＿＿＿＿＿＿＿＿＿＿＿＿＿＿＿＿＿＿＿＿＿＿＿＿＿＿＿＿＿＿＿＿＿＿＿＿＿＿＿＿＿＿＿＿＿＿＿＿＿＿＿＿＿＿＿＿＿＿＿＿＿＿\n",
    "### 【問題３】for文を使用して作成\n",
    "・問題１、２をべき乗演算子ではなくfor文を使用したコードで作成する"
   ]
  },
  {
   "cell_type": "code",
   "execution_count": 3,
   "metadata": {},
   "outputs": [
    {
     "name": "stdout",
     "output_type": "stream",
     "text": [
      "厚さ： 70.37万キロメートル\n"
     ]
    }
   ],
   "source": [
    "# 紙1枚の厚さ\n",
    "THICKNESS = 0.00008\n",
    "\n",
    "# 紙1回折ったときに増える量(*2)\n",
    "n = 2\n",
    "\n",
    "# 紙を折る回数\n",
    "times = 43\n",
    "\n",
    "# 紙を折る前の厚さ\n",
    "folded_thickness = THICKNESS\n",
    "\n",
    "# 折った時の厚さを計算する式\n",
    "for i in range(times):\n",
    "    folded_thickness *= n\n",
    "    \n",
    "# 万キロメートルに変換する変数\n",
    "change_to_10000km = change_to_km / 10000\n",
    "\n",
    "print(\"厚さ： {:.2f}万キロメートル\".format(folded_thickness * change_to_10000km)) "
   ]
  },
  {
   "cell_type": "markdown",
   "metadata": {},
   "source": [
    "＿＿＿＿＿＿＿＿＿＿＿＿＿＿＿＿＿＿＿＿＿＿＿＿＿＿＿＿＿＿＿＿＿＿＿＿＿＿＿＿＿＿＿＿＿＿＿＿＿＿＿＿＿＿＿＿＿＿＿＿＿＿＿＿＿＿\n",
    "### 【問題４】計算時間の比較\n",
    "・計算速度を求めるコードサンプルを使用し、べき乗演算子を使用したコードとfor文のコードの計算速度を比較する"
   ]
  },
  {
   "cell_type": "code",
   "execution_count": 4,
   "metadata": {},
   "outputs": [
    {
     "name": "stdout",
     "output_type": "stream",
     "text": [
      "厚さ： 70.37万キロメートル\n",
      "time : 0.0[s]\n"
     ]
    }
   ],
   "source": [
    "import time\n",
    "start = time.time()\n",
    "#####\n",
    "# ここに上で書いたコードを貼り付ける\n",
    "\n",
    "# べき乗演算子を使用したコード\n",
    "# 紙1枚の厚さ\n",
    "THICKNESS = 0.00008\n",
    "\n",
    "# 紙1枚折ったときに増える量(*2)\n",
    "n = 2\n",
    "\n",
    "# 紙を折る回数\n",
    "times = 43\n",
    "\n",
    "# 折った時の厚みを計算する式\n",
    "folded_thickness = THICKNESS * n ** times\n",
    "\n",
    "# キロメートルに変換する変数\n",
    "change_to_km = 1 / 1000\n",
    "# 万キロメートルに変換する変数\n",
    "change_to_10000km = change_to_km / 10000\n",
    "\n",
    "print(\"厚さ： {:.2f}万キロメートル\".format(folded_thickness * change_to_10000km))\n",
    "#####\n",
    "elapsed_time = time.time() - start\n",
    "print(\"time : {}[s]\".format(elapsed_time))"
   ]
  },
  {
   "cell_type": "code",
   "execution_count": 5,
   "metadata": {},
   "outputs": [
    {
     "name": "stdout",
     "output_type": "stream",
     "text": [
      "厚さ： 70.37万キロメートル\n",
      "time : 0.001001119613647461[s]\n"
     ]
    }
   ],
   "source": [
    "import time\n",
    "start = time.time()\n",
    "#####\n",
    "# ここに上で書いたコードを貼り付ける\n",
    "\n",
    "# 紙1枚の厚さ\n",
    "THICKNESS = 0.00008\n",
    "\n",
    "# 紙1回折ったときに増える量(*2)\n",
    "n = 2\n",
    "\n",
    "# 紙を折る回数\n",
    "times = 43\n",
    "\n",
    "# 紙を折る前の厚さ\n",
    "folded_thickness = THICKNESS\n",
    "\n",
    "# 折った時の厚さを計算する式\n",
    "for i in range(times):\n",
    "    folded_thickness *= n\n",
    "    \n",
    "## キロメートルに変換する変数\n",
    "change_to_km = 1 / 1000\n",
    "# 万キロメートルに変換する変数\n",
    "change_to_10000km = change_to_km / 10000\n",
    "\n",
    "print(\"厚さ： {:.2f}万キロメートル\".format(folded_thickness * change_to_10000km))\n",
    "#####\n",
    "elapsed_time = time.time() - start\n",
    "print(\"time : {}[s]\".format(elapsed_time))"
   ]
  },
  {
   "cell_type": "markdown",
   "metadata": {},
   "source": [
    "### 計算結果の比較\n",
    "・計算速度はどちらもほとんど変わらない\n",
    "・7/3の授業中に何度か繰り返した結果ではばらつきが多くどちらが速いか判断できなかった"
   ]
  },
  {
   "cell_type": "markdown",
   "metadata": {},
   "source": [
    "＿＿＿＿＿＿＿＿＿＿＿＿＿＿＿＿＿＿＿＿＿＿＿＿＿＿＿＿＿＿＿＿＿＿＿＿＿＿＿＿＿＿＿＿＿＿＿＿＿＿＿＿＿＿＿＿＿＿＿＿＿＿＿＿＿＿＿＿\n",
    "### 【問題５】リストへの保存\n",
    "・問題３のコードを紙を折る毎の厚さの数値を表示するコードに書き替える\n",
    "・リストを使って数値を保存する"
   ]
  },
  {
   "cell_type": "code",
   "execution_count": 6,
   "metadata": {},
   "outputs": [
    {
     "name": "stdout",
     "output_type": "stream",
     "text": [
      "紙を1回折った時の厚さ：0.00016\n",
      "紙を2回折った時の厚さ：0.00032\n",
      "紙を3回折った時の厚さ：0.00064\n",
      "紙を4回折った時の厚さ：0.00128\n",
      "紙を5回折った時の厚さ：0.00256\n",
      "紙を6回折った時の厚さ：0.00512\n",
      "紙を7回折った時の厚さ：0.01024\n",
      "紙を8回折った時の厚さ：0.02048\n",
      "紙を9回折った時の厚さ：0.04096\n",
      "紙を10回折った時の厚さ：0.08192\n",
      "紙を11回折った時の厚さ：0.16384\n",
      "紙を12回折った時の厚さ：0.32768\n",
      "紙を13回折った時の厚さ：0.65536\n",
      "紙を14回折った時の厚さ：1.31072\n",
      "紙を15回折った時の厚さ：2.62144\n",
      "紙を16回折った時の厚さ：5.24288\n",
      "紙を17回折った時の厚さ：10.48576\n",
      "紙を18回折った時の厚さ：20.97152\n",
      "紙を19回折った時の厚さ：41.94304\n",
      "紙を20回折った時の厚さ：83.88608\n",
      "紙を21回折った時の厚さ：167.77216\n",
      "紙を22回折った時の厚さ：335.54432\n",
      "紙を23回折った時の厚さ：671.08864\n",
      "紙を24回折った時の厚さ：1342.17728\n",
      "紙を25回折った時の厚さ：2684.35456\n",
      "紙を26回折った時の厚さ：5368.70912\n",
      "紙を27回折った時の厚さ：10737.41824\n",
      "紙を28回折った時の厚さ：21474.83648\n",
      "紙を29回折った時の厚さ：42949.67296\n",
      "紙を30回折った時の厚さ：85899.34592\n",
      "紙を31回折った時の厚さ：171798.69184\n",
      "紙を32回折った時の厚さ：343597.38368\n",
      "紙を33回折った時の厚さ：687194.76736\n",
      "紙を34回折った時の厚さ：1374389.53472\n",
      "紙を35回折った時の厚さ：2748779.06944\n",
      "紙を36回折った時の厚さ：5497558.13888\n",
      "紙を37回折った時の厚さ：10995116.27776\n",
      "紙を38回折った時の厚さ：21990232.55552\n",
      "紙を39回折った時の厚さ：43980465.11104\n",
      "紙を40回折った時の厚さ：87960930.22208\n",
      "紙を41回折った時の厚さ：175921860.44416\n",
      "紙を42回折った時の厚さ：351843720.88832\n",
      "紙を43回折った時の厚さ：703687441.77664\n",
      "リストの要素数：44 個\n"
     ]
    }
   ],
   "source": [
    "thickness_list = []\n",
    "thickness_list.append(THICKNESS)\n",
    "\n",
    "# 紙1枚の厚さ\n",
    "THICKNESS = 0.00008\n",
    "\n",
    "# 紙1回折ったときに増える量(*2)\n",
    "n = 2\n",
    "\n",
    "# 紙を折る回数\n",
    "times = 43\n",
    "\n",
    "# 紙を折る前の厚さ\n",
    "folded_thickness = THICKNESS\n",
    "\n",
    "# 折った時の厚さを計算する式\n",
    "for i in range(1, times+1):\n",
    "    folded_thickness *= n\n",
    "    thickness_list.append(folded_thickness)\n",
    "    print(\"紙を{}回折った時の厚さ：{}\".format(i, folded_thickness))\n",
    "    \n",
    "print(\"リストの要素数：{} 個\".format(len(thickness_list)))\n",
    "    \n"
   ]
  },
  {
   "cell_type": "markdown",
   "metadata": {},
   "source": [
    "＿＿＿＿＿＿＿＿＿＿＿＿＿＿＿＿＿＿＿＿＿＿＿＿＿＿＿＿＿＿＿＿＿＿＿＿＿＿＿＿＿＿＿＿＿＿＿＿＿＿＿＿＿＿＿＿＿＿＿＿＿＿＿＿＿＿＿＿\n",
    "### 【問題６】折れ線グラフの表示\n",
    "・Matplotlibを使用し、リストに格納した数値を折れ線グラフで表示する\n",
    "・グラフ上で厚さがどのように変化しているか考察する"
   ]
  },
  {
   "cell_type": "code",
   "execution_count": 7,
   "metadata": {},
   "outputs": [
    {
     "data": {
      "image/png": "[encoded data removed]",
      "text/plain": [
       "<Figure size 432x288 with 1 Axes>"
      ]
     },
     "metadata": {
      "needs_background": "light"
     },
     "output_type": "display_data"
    }
   ],
   "source": [
    "\"\"\"\n",
    "グラフを表示する。タイトルと軸ラベル名付き。\n",
    "\"\"\"\n",
    "import matplotlib.pyplot as plt\n",
    "%matplotlib inline\n",
    "\n",
    "plt.title(\"thickness of folded paper\")\n",
    "plt.xlabel(\"number of folds\")\n",
    "plt.ylabel(\"thickness[m]\")\n",
    "plt.plot(thickness_list) # 「リスト名」のところにリストの変数名を入れる\n",
    "plt.show()"
   ]
  },
  {
   "cell_type": "markdown",
   "metadata": {},
   "source": [
    "### 考察\n",
    "折る回数が35回くらいまではグラフ上はあまり変化はないが、その後急激に大きくなっている"
   ]
  },
  {
   "cell_type": "markdown",
   "metadata": {},
   "source": [
    "＿＿＿＿＿＿＿＿＿＿＿＿＿＿＿＿＿＿＿＿＿＿＿＿＿＿＿＿＿＿＿＿＿＿＿＿＿＿＿＿＿＿＿＿＿＿＿＿＿＿＿＿＿＿＿＿＿＿＿＿＿＿＿＿＿＿＿＿\n",
    "### 【問題７】グラフのカスタマイズ\n",
    "・問題６で作ったグラフを見やすくカスタマイズする\n",
    "・グラフの色やスタイルなどを変更し、カスタマイズしたグラフを最低3種類作成する"
   ]
  },
  {
   "cell_type": "markdown",
   "metadata": {},
   "source": [
    "### グラフの線の色を緑に変更"
   ]
  },
  {
   "cell_type": "code",
   "execution_count": 8,
   "metadata": {},
   "outputs": [
    {
     "data": {
      "image/png": "[encoded data removed]",
      "text/plain": [
       "<Figure size 432x288 with 1 Axes>"
      ]
     },
     "metadata": {
      "needs_background": "light"
     },
     "output_type": "display_data"
    }
   ],
   "source": [
    "\"\"\"\n",
    "グラフを表示する。タイトルと軸ラベル名付き。\n",
    "\"\"\"\n",
    "import matplotlib.pyplot as plt\n",
    "%matplotlib inline\n",
    "\n",
    "plt.title(\"thickness of folded paper\")\n",
    "plt.xlabel(\"number of folds\")\n",
    "plt.ylabel(\"thickness[m]\")\n",
    "plt.plot(thickness_list, color=\"g\") # 「リスト名」のところにリストの変数名を入れる\n",
    "plt.show()"
   ]
  },
  {
   "cell_type": "markdown",
   "metadata": {},
   "source": [
    "### グラフ上の数値をoで表示"
   ]
  },
  {
   "cell_type": "code",
   "execution_count": 9,
   "metadata": {},
   "outputs": [
    {
     "data": {
      "image/png": "[encoded data removed]",
      "text/plain": [
       "<Figure size 432x288 with 1 Axes>"
      ]
     },
     "metadata": {
      "needs_background": "light"
     },
     "output_type": "display_data"
    }
   ],
   "source": [
    "\"\"\"\n",
    "グラフを表示する。タイトルと軸ラベル名付き。\n",
    "\"\"\"\n",
    "import matplotlib.pyplot as plt\n",
    "%matplotlib inline\n",
    "\n",
    "plt.title(\"thickness of folded paper\")\n",
    "plt.xlabel(\"number of folds\")\n",
    "plt.ylabel(\"thickness[m]\")\n",
    "plt.plot(thickness_list, marker='o') # 「リスト名」のところにリストの変数名を入れる\n",
    "plt.show()"
   ]
  },
  {
   "cell_type": "markdown",
   "metadata": {},
   "source": [
    "### グラフのタイトルの色などを変更"
   ]
  },
  {
   "cell_type": "code",
   "execution_count": 33,
   "metadata": {},
   "outputs": [
    {
     "data": {
      "image/png": "[encoded data removed]",
      "text/plain": [
       "<Figure size 432x288 with 1 Axes>"
      ]
     },
     "metadata": {
      "needs_background": "light"
     },
     "output_type": "display_data"
    }
   ],
   "source": [
    "\"\"\"\"\n",
    "グラフを表示する。タイトルと軸ラベル名付き。\n",
    "\"\"\"\n",
    "import matplotlib.pyplot as plt\n",
    "%matplotlib inline\n",
    "\n",
    "plt.title(\"thickness of folded paper\", color=\"r\", size=17)\n",
    "plt.xlabel(\"number of folds\", size=14)\n",
    "plt.ylabel(\"thickness[m]\", size=14)\n",
    "plt.tick_params(labelsize=12) # 軸の値に関する設定を行う\n",
    "plt.plot(thickness_list, color=\"r\", marker=\"o\") # 「リスト名」のところにリストの変数名を入れる\n",
    "plt.show()"
   ]
  },
  {
   "cell_type": "code",
   "execution_count": null,
   "metadata": {},
   "outputs": [],
   "source": []
  }
 ],
 "metadata": {
  "kernelspec": {
   "display_name": "Python 3",
   "language": "python",
   "name": "python3"
  },
  "language_info": {
   "codemirror_mode": {
    "name": "ipython",
    "version": 3
   },
   "file_extension": ".py",
   "mimetype": "text/x-python",
   "name": "python",
   "nbconvert_exporter": "python",
   "pygments_lexer": "ipython3",
   "version": "3.7.3"
  }
 },
 "nbformat": 4,
 "nbformat_minor": 2
}
