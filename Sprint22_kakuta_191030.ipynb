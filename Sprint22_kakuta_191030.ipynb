{
 "cells": [
  {
   "cell_type": "markdown",
   "metadata": {},
   "source": [
    "# Sprint22 深層学習スクラッチ リカレントニューラルネットワーク\n",
    "\n",
    "## 1.このSprintについて\n",
    "\n",
    "### Sprintの目的\n",
    "- スクラッチを通してリカレントニューラルネットワークの基礎を理解する\n",
    "\n",
    "### どのように学ぶか\n",
    "- スクラッチでリカレントニューラルネットワークの実装を行います。\n",
    "\n",
    "## 2.リカレントニューラルネットワークスクラッチ\n",
    "リカレントニューラルネットワーク（RNN） のクラスをスクラッチで作成していきます。NumPyなど最低限のライブラリのみを使いアルゴリズムを実装していきます。\n",
    "\n",
    "フォワードプロパゲーションの実装を必須課題とし、バックプロパゲーションの実装はアドバンス課題とします。\n",
    "\n",
    "クラスの名前はScratchSimpleRNNClassifierとしてください。クラスの構造などは以前のSprintで作成したScratchDeepNeuralNetrowkClassifierを参考にしてください。"
   ]
  },
  {
   "cell_type": "markdown",
   "metadata": {},
   "source": [
    "### 【問題1】SimpleRNNのフォワードプロパゲーション実装\n",
    "SimpleRNNのクラスSimpleRNNを作成してください。基本構造はFCクラスと同じになります。\n",
    "\n",
    "フォワードプロパゲーションの数式は以下のようになります。ndarrayのshapeがどうなるかを併記しています。\n",
    "\n",
    "バッチサイズをbatch_size、入力の特徴量数をn_features、RNNのノード数をn_nodesとして表記します。活性化関数はtanhとして進めますが、これまでのニューラルネットワーク同様にReLUなどに置き換えられます。\n",
    "\n",
    "$$a_t = x_t \\cdot W_x + h_{t-1} \\cdot W_h + B$$\n",
    "$$h_t = tanh(a_t)$$\n",
    "\n",
    "$a_t$  : 時刻tの活性化関数を通す前の状態 (batch_size, n_nodes)\n",
    "\n",
    "$h_t$ : 時刻tの状態・出力 (batch_size, n_nodes)\n",
    "\n",
    "$x_t$ : 時刻tの入力 (batch_size, n_features)\n",
    "\n",
    "$W_x$ : 入力に対する重み (n_features, n_nodes)\n",
    "\n",
    "$h_{t−1}$ : 時刻t-1の状態（前の時刻から伝わる順伝播） (batch_size, n_nodes)\n",
    "\n",
    "$W_h$ : 状態に対する重み。 (n_nodes, n_nodes)\n",
    "\n",
    "$B$ : バイアス項 (n_nodes,)\n",
    "\n",
    "初期状態 $h_0$ は全て0とすることが多いですが、任意の値を与えることも可能です。\n",
    "\n",
    "上記の処理を系列数n_sequences回繰り返すことになります。RNN全体への入力 $x$ は(batch_size, n_sequences, n_features)のような配列で渡されることになり、そこから各時刻の配列を取り出していきます。\n",
    "\n",
    "分類問題であれば、それぞれの時刻のhに対して全結合層とソフトマックス関数（またはシグモイド関数）を使用します。タスクによっては最後の時刻のhだけを使用することもあります。"
   ]
  },
  {
   "cell_type": "code",
   "execution_count": 5,
   "metadata": {},
   "outputs": [],
   "source": [
    "import numpy as np"
   ]
  },
  {
   "cell_type": "code",
   "execution_count": 7,
   "metadata": {},
   "outputs": [],
   "source": [
    "class ScratchSimpleRNNClassifier:\n",
    "    def forward(self, X, Wx, Wh, B):\n",
    "        \"\"\"\n",
    "        フォワード\n",
    "        Parameters\n",
    "        ----------\n",
    "        X : 次の形のndarray, shape (n_batches, n_sequences, n_features)(1, 3, 2)\n",
    "            入力\n",
    "        Returns\n",
    "        ----------\n",
    "        A : 時刻tの活性化関数を通す前の状態 (batch_size, n_nodes)(1, 4)\n",
    "        H : 時刻tの状態・出力 (batch_size, n_nodes)(1, 4)\n",
    "        X : 時刻tの入力 (batch_size, n_features)(1, 3)\n",
    "        Wx : 入力に対する重み (n_features, n_nodes)(2, 4)\n",
    "        Wh : 状態に対する重み。 (n_nodes, n_nodes)(4, 4)\n",
    "        B  : バイアス項 (n_nodes,)(4, )\n",
    "        \"\"\"\n",
    "        H = np.zeros((X.shape[0], Wx.shape[1]))\n",
    "        for i in range(X.shape[1]):\n",
    "            A_t = (X[:, i, :]@Wx) + (H@Wh) + B\n",
    "            H = np.tanh(A_t)\n",
    "        return H       "
   ]
  },
  {
   "cell_type": "markdown",
   "metadata": {},
   "source": [
    "### 【問題2】小さな配列でのフォワードプロパゲーションの実験\n",
    "小さな配列でフォワードプロパゲーションを考えてみます。\n",
    "\n",
    "入力$x$、初期状態$h、重み$w_x$と$w_h$、バイアス$b$を次のようにします。\n",
    "\n",
    "ここで配列$x$の軸はバッチサイズ、系列数、特徴量数の順番です。\n",
    "```\n",
    "x = np.array([[[1, 2], [2, 3], [3, 4]]])/100 # (batch_size, n_sequences, n_features)\n",
    "w_x = np.array([[1, 3, 5, 7], [3, 5, 7, 8]])/100 # (n_features, n_nodes)\n",
    "w_h = np.array([[1, 3, 5, 7], [2, 4, 6, 8], [3, 5, 7, 8], [4, 6, 8, 10]])/100 # (n_nodes, n_nodes)\n",
    "batch_size = x.shape[0] # 1\n",
    "n_sequences = x.shape[1] # 3\n",
    "n_features = x.shape[2] # 2\n",
    "n_nodes = w_x.shape[1] # 4\n",
    "h = np.zeros((batch_size, n_nodes)) # (batch_size, n_nodes)\n",
    "b = np.array([1, 1, 1, 1]) # (n_nodes,)\n",
    "```"
   ]
  },
  {
   "cell_type": "code",
   "execution_count": 8,
   "metadata": {},
   "outputs": [
    {
     "name": "stdout",
     "output_type": "stream",
     "text": [
      "[[0.79494228 0.81839002 0.83939649 0.85584174]]\n"
     ]
    }
   ],
   "source": [
    "x = np.array([[[1, 2], [2, 3], [3, 4]]])/100 # (batch_size, n_sequences, n_features)\n",
    "w_x = np.array([[1, 3, 5, 7], [3, 5, 7, 8]])/100 # (n_features, n_nodes)\n",
    "w_h = np.array([[1, 3, 5, 7], [2, 4, 6, 8], [3, 5, 7, 8], [4, 6, 8, 10]])/100 # (n_nodes, n_nodes)\n",
    "b = np.array([1, 1, 1, 1]) # (n_nodes,)\n",
    "rnn = ScratchSimpleRNNClassifier()\n",
    "h = rnn.forward(x, w_x, w_h, b)\n",
    "print(h)"
   ]
  },
  {
   "cell_type": "markdown",
   "metadata": {},
   "source": [
    "フォワードプロパゲーションの出力が次のようになることを作成したコードで確認してください。\n",
    "```\n",
    "h = np.array([[0.79494228, 0.81839002, 0.83939649, 0.85584174]]) # (batch_size, n_nodes)\n",
    "```"
   ]
  }
 ],
 "metadata": {
  "kernelspec": {
   "display_name": "Python 3",
   "language": "python",
   "name": "python3"
  },
  "language_info": {
   "codemirror_mode": {
    "name": "ipython",
    "version": 3
   },
   "file_extension": ".py",
   "mimetype": "text/x-python",
   "name": "python",
   "nbconvert_exporter": "python",
   "pygments_lexer": "ipython3",
   "version": "3.7.3"
  }
 },
 "nbformat": 4,
 "nbformat_minor": 2
}
