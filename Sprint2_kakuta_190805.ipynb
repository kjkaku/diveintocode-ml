{
 "cells": [
  {
   "cell_type": "markdown",
   "metadata": {},
   "source": [
    "# Sprint2 課題　機械学習スクラッチ入門\n",
    "## 1.このSprintについて\n",
    "### Sprintの目的\n",
    "- 機械学習スクラッチの準備をする\n",
    "### どのように学ぶか\n",
    "今後の機械学習スクラッチ課題で作成するモデルを、scikit-learnを用いて一度動かしておきます。これまでの復習を兼ねたスクラッチ課題の準備です。\n",
    "\n",
    "## 2.スクラッチ\n",
    "このSprintでは機械学習手法のスクラッチ課題に取り組む準備を行います。scikit-learnを用いて分類・回帰問題を解くコードを書いておき、今後のSprintではそれと同じ動作をするクラスをスクラッチで作成していきます。\n",
    "\n",
    "### スクラッチの意義\n",
    "ここでのスクラッチとは、NumPyなどの基本的なライブラリを組み合わせることで、scikit-learnのような応用的なライブラリと同じ機能のクラス・関数を自作することを指します。\n",
    "\n",
    "スクラッチをすることでscikit-learnなどのライブラリを動かすだけでは掴みづらい、アルゴリズムの深い理解を目指します。コーディングのスキル向上も兼ねますが、それは主な目的ではありません。\n",
    "\n",
    "以下のような効果を狙っています。\n",
    "\n",
    "- 新たな手法に出会った時に理論・数式を理解しやすくする\n",
    "- ライブラリを使う上での曖昧さを減らす\n",
    "- 既存の実装を読みやすくする\n"
   ]
  },
  {
   "cell_type": "markdown",
   "metadata": {},
   "source": [
    "＿＿＿＿＿＿＿＿＿＿＿＿＿＿＿＿＿＿＿＿＿＿＿＿＿＿＿＿＿＿＿＿＿＿＿＿＿＿＿＿＿＿＿＿＿＿＿＿＿＿＿＿＿＿\n",
    "### 【問題1】train_test_splitのスクラッチ\n",
    "スクラッチの練習として、scikit-learnのtrain_test_splitを自作してみます。以下の雛形をベースとして関数を完成させてください。\n",
    "\n",
    "[sklearn.model_selection.train_test_split — scikit-learn 0.21.3 documentation](https://scikit-learn.org/stable/modules/generated/sklearn.model_selection.train_test_split.html)\n",
    "\n",
    "なお、作成した関数がscikit-learnのtrain_test_splitと同じ動作をしているか必ず確認をするようにしましょう。"
   ]
  },
  {
   "cell_type": "markdown",
   "metadata": {},
   "source": [
    "**雛形**\n",
    "```\n",
    "def scratch_train_test_split(X, y, train_size=0.8,):\n",
    "    \"\"\"\n",
    "    検証用データを分割する。\n",
    "\n",
    "    Parameters\n",
    "    ----------\n",
    "    X : 次の形のndarray, shape (n_samples, n_features)\n",
    "      学習データ\n",
    "    y : 次の形のndarray, shape (n_samples, )\n",
    "      正解値\n",
    "    train_size : float (0<train_size<1)\n",
    "      何割をtrainとするか指定\n",
    "\n",
    "    Returns\n",
    "    ----------\n",
    "    X_train : 次の形のndarray, shape (n_samples, n_features)\n",
    "      学習データ\n",
    "    X_test : 次の形のndarray, shape (n_samples, n_features)\n",
    "      検証データ\n",
    "    y_train : 次の形のndarray, shape (n_samples, )\n",
    "      学習データの正解値\n",
    "    y_test : 次の形のndarray, shape (n_samples, )\n",
    "      検証データの正解値\n",
    "    \"\"\"\n",
    "    #ここにコードを書く\n",
    "    pass\n",
    "\n",
    "    return X_train, X_test, y_train, y_test\n",
    "```"
   ]
  },
  {
   "cell_type": "code",
   "execution_count": 1,
   "metadata": {},
   "outputs": [],
   "source": [
    "import numpy as np\n",
    "from sklearn import linear_model\n",
    "from sklearn.datasets import load_iris\n",
    "from sklearn.svm import SVC\n",
    "from sklearn.model_selection import cross_val_score\n",
    "from sklearn.tree import DecisionTreeClassifier\n",
    "import matplotlib.pyplot as plt\n",
    "from matplotlib.colors import ListedColormap\n",
    "import matplotlib.patches as mpatches\n",
    "from sklearn import metrics\n",
    "import pandas as pd\n",
    "from sklearn.metrics import mean_squared_error"
   ]
  },
  {
   "cell_type": "code",
   "execution_count": 2,
   "metadata": {},
   "outputs": [
    {
     "data": {
      "text/plain": [
       "'\\ndef scratch_train_test_split(X, y, train_size=0.8,):\\n    \"\"\"\\n    検証用データを分割する。\\n\\n    Parameters\\n    ----------\\n    X : 次の形のndarray, shape (n_samples, n_features)\\n      学習データ\\n    y : 次の形のndarray, shape (n_samples, )\\n      正解値\\n    train_size : float (0<train_size<1)\\n      何割をtrainとするか指定\\n\\n    Returns\\n    ----------\\n    X_train : 次の形のndarray, shape (n_samples, n_features)\\n      学習データ\\n    X_test : 次の形のndarray, shape (n_samples, n_features)\\n      検証データ\\n    y_train : 次の形のndarray, shape (n_samples, )\\n      学習データの正解値\\n    y_test : 次の形のndarray, shape (n_samples, )\\n      検証データの正解値\\n    \"\"\"\\n    #ここにコードを書く\\n    y_type = y.dtype\\n    print(y_type)\\n    xy = np.hstack((X, np.reshape(y, (len(y), 1))))\\n    np.random.seed(0)\\n    xy_shuffle = np.random.permutation(xy)\\n    num = round(np.shape(xy_shuffle)[0] * train_size)\\n    xy_1st = xy_shuffle[:][:num]\\n    xy_2nd = xy_shuffle[:][num:]\\n    X_train = xy_1st[:, :-1]\\n    X_test = xy_2nd[:, :-1]\\n    y_train = xy_1st[:,-1]\\n    y_test = xy_2nd[:,-1]\\n    y_train = y_train.astype(y_type)\\n    y_test = y_test.astype(y_type)\\n    \\n    return X_train, X_test, y_train, y_test\\n\\nnum_row =20\\nnum_col = 5\\nX = np.arange(num_row * num_col).reshape(num_row, num_col)\\ny = np.arange(num_row)\\n\\nX_train, X_test, y_train, y_test = scratch_train_test_split(X, y, train_size=0.8,)\\nprint(X_train)\\nprint(X_test)\\nprint(y_train)\\nprint(y_test)\\n'"
      ]
     },
     "execution_count": 2,
     "metadata": {},
     "output_type": "execute_result"
    }
   ],
   "source": [
    "'''\n",
    "def scratch_train_test_split(X, y, train_size=0.8,):\n",
    "    \"\"\"\n",
    "    検証用データを分割する。\n",
    "\n",
    "    Parameters\n",
    "    ----------\n",
    "    X : 次の形のndarray, shape (n_samples, n_features)\n",
    "      学習データ\n",
    "    y : 次の形のndarray, shape (n_samples, )\n",
    "      正解値\n",
    "    train_size : float (0<train_size<1)\n",
    "      何割をtrainとするか指定\n",
    "\n",
    "    Returns\n",
    "    ----------\n",
    "    X_train : 次の形のndarray, shape (n_samples, n_features)\n",
    "      学習データ\n",
    "    X_test : 次の形のndarray, shape (n_samples, n_features)\n",
    "      検証データ\n",
    "    y_train : 次の形のndarray, shape (n_samples, )\n",
    "      学習データの正解値\n",
    "    y_test : 次の形のndarray, shape (n_samples, )\n",
    "      検証データの正解値\n",
    "    \"\"\"\n",
    "    #ここにコードを書く\n",
    "    y_type = y.dtype\n",
    "    print(y_type)\n",
    "    xy = np.hstack((X, np.reshape(y, (len(y), 1))))\n",
    "    np.random.seed(0)\n",
    "    xy_shuffle = np.random.permutation(xy)\n",
    "    num = round(np.shape(xy_shuffle)[0] * train_size)\n",
    "    xy_1st = xy_shuffle[:][:num]\n",
    "    xy_2nd = xy_shuffle[:][num:]\n",
    "    X_train = xy_1st[:, :-1]\n",
    "    X_test = xy_2nd[:, :-1]\n",
    "    y_train = xy_1st[:,-1]\n",
    "    y_test = xy_2nd[:,-1]\n",
    "    y_train = y_train.astype(y_type)\n",
    "    y_test = y_test.astype(y_type)\n",
    "    \n",
    "    return X_train, X_test, y_train, y_test\n",
    "\n",
    "num_row =20\n",
    "num_col = 5\n",
    "X = np.arange(num_row * num_col).reshape(num_row, num_col)\n",
    "y = np.arange(num_row)\n",
    "\n",
    "X_train, X_test, y_train, y_test = scratch_train_test_split(X, y, train_size=0.8,)\n",
    "print(X_train)\n",
    "print(X_test)\n",
    "print(y_train)\n",
    "print(y_test)\n",
    "'''"
   ]
  },
  {
   "cell_type": "code",
   "execution_count": 3,
   "metadata": {},
   "outputs": [
    {
     "name": "stdout",
     "output_type": "stream",
     "text": [
      "[[ 6  7  8]\n",
      " [24 25 26]\n",
      " [12 13 14]\n",
      " [27 28 29]\n",
      " [ 3  4  5]\n",
      " [18 19 20]\n",
      " [21 22 23]\n",
      " [ 9 10 11]]\n",
      "[[ 0  1  2]\n",
      " [15 16 17]]\n",
      "[2 8 4 9 1 6 7 3]\n",
      "[0 5]\n"
     ]
    }
   ],
   "source": [
    "def scratch_train_test_split(X, y, train_size=0.8,):\n",
    "    \"\"\"\n",
    "    検証用データを分割する。\n",
    "\n",
    "    Parameters\n",
    "    ----------\n",
    "    X : 次の形のndarray, shape (n_samples, n_features)\n",
    "      学習データ\n",
    "    y : 次の形のndarray, shape (n_samples, )\n",
    "      正解値\n",
    "    train_size : float (0<train_size<1)\n",
    "      何割をtrainとするか指定\n",
    "\n",
    "    Returns\n",
    "    ----------\n",
    "    X_train : 次の形のndarray, shape (n_samples, n_features)\n",
    "      学習データ\n",
    "    X_test : 次の形のndarray, shape (n_samples, n_features)\n",
    "      検証データ\n",
    "    y_train : 次の形のndarray, shape (n_samples, )\n",
    "      学習データの正解値\n",
    "    y_test : 次の形のndarray, shape (n_samples, )\n",
    "      検証データの正解値\n",
    "    \"\"\"\n",
    "    assert isinstance(X, np.ndarray) and isinstance(y, np.ndarray), 'Xとyの型はndarrayにしてください' # X,yがndarray型でない場合はエラーを発生させる\n",
    "    assert X.shape[0] == len(y), 'Xの行数とyの列数がそろっていません。\\nXの列数：{} \\nyの行数：{}'.format(X.shape[0], len(y)) # X,yの行列数が合っていない場合ははエラーを発生させる\n",
    "    np.random.seed(0) # 再現性を保つためシードを固定\n",
    "    permutation = np.random.permutation(len(y)) # X, yをシャッフルする乱数を作成\n",
    "    x_shuffle = X[permutation] # Xをシャッフルさせる\n",
    "    y_shuffle = y[permutation] # yをシャッフルさせる\n",
    "    num = round(len(y) * train_size) # 分割点を取得\n",
    "    \n",
    "    X_train = x_shuffle[:][:num] # Xを分割しX_trainを作成\n",
    "    X_test = x_shuffle[:][num:] # 分割したXの残りでX_testを作成\n",
    "    y_train = y_shuffle[:num] # yを分割しy_trainを作成\n",
    "    y_test = y_shuffle[num:] # 分割したyの残りでy_testを作成\n",
    "    \n",
    "    return X_train, X_test, y_train, y_test\n",
    "\n",
    "num_row =10\n",
    "num_col = 3\n",
    "X = np.arange(num_row * num_col).reshape(num_row, num_col)\n",
    "y = np.arange(num_row)\n",
    "\n",
    "X_train, X_test, y_train, y_test = scratch_train_test_split(X, y, train_size=0.8,)\n",
    "print(X_train)\n",
    "print(X_test)\n",
    "print(y_train)\n",
    "print(y_test)"
   ]
  },
  {
   "cell_type": "markdown",
   "metadata": {},
   "source": [
    "## 3.scikit-learnを用いて機械学習を行うコードを作成\n",
    "scikit-learnを使ったコードを作成していきます。\n",
    "\n",
    "検証用データの分割には問題1で作成した自作の関数を用いてください。クロスバリデーションではなくホールドアウト法で構いません。\n",
    "\n",
    "### 分類問題\n",
    "分類は3種類の手法をスクラッチします。\n",
    "\n",
    "- ロジスティック回帰\n",
    "- SVM\n",
    "- 決定木\n",
    "\n",
    "ロジスティック回帰はscikit-learnにおいてLogisticRegressionクラスとSGDClassifierクラスの2種類から使用できます。ここでは勾配降下法を用いて計算するSGDClassifierクラスを利用してください。引数でloss=\"log\"とすることでロジスティック回帰の計算になります。\n",
    "\n",
    "- [sklearn.linear_model.SGDClassifier — scikit-learn 0.21.3 documentation](https://scikit-learn.org/stable/modules/generated/sklearn.linear_model.SGDClassifier.html#sklearn.linear_model.SGDClassifier)\n",
    "- [sklearn.svm.SVC — scikit-learn 0.21.3 documentation](https://scikit-learn.org/stable/modules/generated/sklearn.svm.SVC.html#sklearn.svm.SVC)\n",
    "- [sklearn.tree.DecisionTreeClassifier — scikit-learn 0.21.3 documentation](https://scikit-learn.org/stable/modules/generated/sklearn.tree.DecisionTreeClassifier.html#sklearn.tree.DecisionTreeClassifier)\n",
    "\n",
    "データセットは3種類用意します。\n",
    "\n",
    "1つ目は事前学習期間同様にirisデータセットです。\n",
    "\n",
    "[sklearn.datasets.load_iris — scikit-learn 0.20.2 documentation](https://scikit-learn.org/stable/modules/generated/sklearn.datasets.load_iris.html)\n",
    "\n",
    "2値分類としたいため、以下の2つの目的変数のみ利用します。特徴量は4種類全て使います。\n",
    "\n",
    "- virgicolorとvirginica\n",
    "\n",
    "残り2つは特徴量が2つのデータセットを人工的に用意します。以下のコードで説明変数X,目的変数yが作成可能です。「シンプルデータセット1」「シンプルデータセット2」とします。特徴量が2つであるため可視化が容易です。"
   ]
  },
  {
   "cell_type": "markdown",
   "metadata": {},
   "source": [
    "**シンプルデータセット1作成コード**\n",
    "```\n",
    "np.random.seed(seed=0)\n",
    "n_samples = 500\n",
    "f0 = [-1, 2]\n",
    "f1 = [2, -1]\n",
    "cov = [[1.0,0.8], [0.8, 1.0]]\n",
    "\n",
    "f0 = np.random.multivariate_normal(f0, cov, int(n_samples/2))\n",
    "f1 = np.random.multivariate_normal(f1, cov, int(n_samples/2))\n",
    "\n",
    "X = np.concatenate((f0, f1))\n",
    "y = np.concatenate((np.ones((int(n_samples/2))), np.ones((int(n_samples/2))) *(-1))).astype(np.int)\n",
    "\n",
    "random_index = np.random.permutation(np.arange(n_samples))\n",
    "X = X[random_index]\n",
    "y = y[random_index]\n",
    "```"
   ]
  },
  {
   "cell_type": "markdown",
   "metadata": {},
   "source": [
    "**シンプルデータセット2作成コード**\n",
    "```\n",
    "X = np.array([[-0.44699 , -2.8073  ],[-1.4621  , -2.4586  ],\n",
    "       [ 0.10645 ,  1.9242  ],[-3.5944  , -4.0112  ],\n",
    "       [-0.9888  ,  4.5718  ],[-3.1625  , -3.9606  ],\n",
    "       [ 0.56421 ,  0.72888 ],[-0.60216 ,  8.4636  ],\n",
    "       [-0.61251 , -0.75345 ],[-0.73535 , -2.2718  ],\n",
    "       [-0.80647 , -2.2135  ],[ 0.86291 ,  2.3946  ],\n",
    "       [-3.1108  ,  0.15394 ],[-2.9362  ,  2.5462  ],\n",
    "       [-0.57242 , -2.9915  ],[ 1.4771  ,  3.4896  ],\n",
    "       [ 0.58619 ,  0.37158 ],[ 0.6017  ,  4.3439  ],\n",
    "       [-2.1086  ,  8.3428  ],[-4.1013  , -4.353   ],\n",
    "       [-1.9948  , -1.3927  ],[ 0.35084 , -0.031994],\n",
    "       [ 0.96765 ,  7.8929  ],[-1.281   , 15.6824  ],\n",
    "       [ 0.96765 , 10.083   ],[ 1.3763  ,  1.3347  ],\n",
    "       [-2.234   , -2.5323  ],[-2.9452  , -1.8219  ],\n",
    "       [ 0.14654 , -0.28733 ],[ 0.5461  ,  5.8245  ],\n",
    "       [-0.65259 ,  9.3444  ],[ 0.59912 ,  5.3524  ],\n",
    "       [ 0.50214 , -0.31818 ],[-3.0603  , -3.6461  ],\n",
    "       [-6.6797  ,  0.67661 ],[-2.353   , -0.72261 ],\n",
    "       [ 1.1319  ,  2.4023  ],[-0.12243 ,  9.0162  ],\n",
    "       [-2.5677  , 13.1779  ],[ 0.057313,  5.4681  ]])\n",
    "y = np.array([0, 0, 0, 0, 0, 0, 0, 0, 0, 0, 0, 0, 0, 0, 0, 0, 0, 0, 0, 0, 1, 1,\n",
    "       1, 1, 1, 1, 1, 1, 1, 1, 1, 1, 1, 1, 1, 1, 1, 1, 1, 1])\n",
    "       ```"
   ]
  },
  {
   "cell_type": "markdown",
   "metadata": {},
   "source": [
    "＿＿＿＿＿＿＿＿＿＿＿＿＿＿＿＿＿＿＿＿＿＿＿＿＿＿＿＿＿＿＿＿＿＿＿＿＿＿＿＿＿＿＿＿＿＿＿＿＿＿＿＿＿＿\n",
    "### 【問題2】 分類問題を解くコードの作成\n",
    "上記3種類の手法で3種類のデータセットを学習・推定するコードを作成してください。"
   ]
  },
  {
   "cell_type": "code",
   "execution_count": 4,
   "metadata": {},
   "outputs": [],
   "source": [
    "# 評価指標を計算する関数\n",
    "def evaluate(y_test, y_pred):\n",
    "    acc = metrics.accuracy_score(y_test, y_pred)\n",
    "    precision = metrics.precision_score(y_test, y_pred)\n",
    "    recall = metrics.recall_score(y_test, y_pred)\n",
    "    f1 = metrics.f1_score(y_test, y_pred)\n",
    "    confusion = metrics.confusion_matrix(y_test, y_pred)\n",
    "    return acc, precision, recall, f1, confusion"
   ]
  },
  {
   "cell_type": "code",
   "execution_count": 5,
   "metadata": {},
   "outputs": [],
   "source": [
    "# y_predを推定する関数\n",
    "def y_predict(X_train, X_test, y_train, y_test):\n",
    "    n_class = 2\n",
    "    log = linear_model.SGDClassifier(loss=\"log\")\n",
    "    svm = SVC()\n",
    "    tree = DecisionTreeClassifier(random_state=0)\n",
    "    models = [log, svm, tree]\n",
    "    model_names = [\"Logistic Regression\", \"SVM\", \"Decision Tree\"]\n",
    "\n",
    "    for model, model_name in zip(models, model_names):\n",
    "        model.fit(X_train, y_train)\n",
    "        y_pred = model.predict(X_test)\n",
    "        print(model_name)   \n",
    "        print(\"acc : {}\\nprecision : {}\\nrecall : {}\\nf1 : {}\\nconfusion matrix \\n {}\\n\".format(*evaluate(y_test, y_pred)))\n",
    "        \n",
    "        if  X_train.shape[1] == 2:\n",
    "            # setting\n",
    "            title='decision region'\n",
    "            xlabel='xlabel'\n",
    "            ylabel='ylabel'\n",
    "            #target_names=['versicolor', 'virginica']\n",
    "            scatter_color = ['red', 'blue']\n",
    "            contourf_color = ['pink', 'skyblue']\n",
    "            step = 0.01\n",
    "            #y_pred = y_pred.reshape(mesh_f0.shape)\n",
    "            # pred\n",
    "            mesh_f0, mesh_f1 = np.meshgrid(np.arange(np.min(X_test[:,0])-0.5, np.max(X_test[:,0])+0.5, step),\n",
    "                                           np.arange(np.min(X_test[:,1])-0.5, np.max(X_test[:,1])+0.5, step))\n",
    "            mesh = np.c_[np.ravel(mesh_f0),np.ravel(mesh_f1)]\n",
    "            y_pred = model.predict(mesh).reshape(mesh_f0.shape)\n",
    "\n",
    "            # plot\n",
    "            plt.title(\"decision region' {}\".format(model_name))\n",
    "            plt.xlabel(xlabel)\n",
    "            plt.ylabel(ylabel)\n",
    "            plt.contourf(mesh_f0, mesh_f1, y_pred, n_class-1, cmap=ListedColormap(contourf_color))\n",
    "            plt.contour(mesh_f0, mesh_f1, y_pred, n_class-1, colors='y', linewidths=3, alpha=0.5)\n",
    "            for i, target in enumerate(set(y_test)):\n",
    "                plt.scatter(X_test[y_test==target][:, 0], X_test[y_test==target][:, 1],\n",
    "                            s=80, color=scatter_color[i], label=i, marker='o')\n",
    "            patches = [mpatches.Patch(color=scatter_color[i], label=i) for i in range(n_class)]\n",
    "            plt.legend(handles=patches)\n",
    "            plt.legend()\n",
    "            plt.show()\n",
    "        else:\n",
    "            pass"
   ]
  },
  {
   "cell_type": "code",
   "execution_count": 6,
   "metadata": {},
   "outputs": [],
   "source": [
    "# アイリスデータセットを用意\n",
    "iris_data = load_iris() \n",
    "X1 = iris_data['data'][50:] # virgicolorとvirginicaの説明変数をX1に代入\n",
    "y1 = iris_data['target'][50:] # 目的変数をy1に代入"
   ]
  },
  {
   "cell_type": "code",
   "execution_count": 7,
   "metadata": {},
   "outputs": [
    {
     "name": "stdout",
     "output_type": "stream",
     "text": [
      "Logistic Regression\n",
      "acc : 0.8\n",
      "precision : 1.0\n",
      "recall : 0.6\n",
      "f1 : 0.7499999999999999\n",
      "confusion matrix \n",
      " [[ 6  4]\n",
      " [ 0 10]]\n",
      "\n",
      "SVM\n",
      "acc : 1.0\n",
      "precision : 1.0\n",
      "recall : 1.0\n",
      "f1 : 1.0\n",
      "confusion matrix \n",
      " [[10  0]\n",
      " [ 0 10]]\n",
      "\n",
      "Decision Tree\n",
      "acc : 0.9\n",
      "precision : 0.8333333333333334\n",
      "recall : 1.0\n",
      "f1 : 0.9090909090909091\n",
      "confusion matrix \n",
      " [[10  0]\n",
      " [ 2  8]]\n",
      "\n"
     ]
    },
    {
     "name": "stderr",
     "output_type": "stream",
     "text": [
      "C:\\Anaconda3\\lib\\site-packages\\sklearn\\linear_model\\stochastic_gradient.py:166: FutureWarning: max_iter and tol parameters have been added in SGDClassifier in 0.19. If both are left unset, they default to max_iter=5 and tol=None. If tol is not None, max_iter defaults to max_iter=1000. From 0.21, default max_iter will be 1000, and default tol will be 1e-3.\n",
      "  FutureWarning)\n",
      "C:\\Anaconda3\\lib\\site-packages\\sklearn\\svm\\base.py:196: FutureWarning: The default value of gamma will change from 'auto' to 'scale' in version 0.22 to account better for unscaled features. Set gamma explicitly to 'auto' or 'scale' to avoid this warning.\n",
      "  \"avoid this warning.\", FutureWarning)\n"
     ]
    }
   ],
   "source": [
    "# アイリスデータを3つの手法で学習、推定、評価\n",
    "X1_train, X1_test, y1_train, y1_test = scratch_train_test_split(X1, y1)\n",
    "y_predict(X1_train, X1_test, y1_train, y1_test)"
   ]
  },
  {
   "cell_type": "code",
   "execution_count": 8,
   "metadata": {},
   "outputs": [],
   "source": [
    "# シンプルデータセット1を用意\n",
    "np.random.seed(seed=0)\n",
    "n_samples = 500\n",
    "f0 = [-1, 2]\n",
    "f1 = [2, -1]\n",
    "cov = [[1.0,0.8], [0.8, 1.0]]\n",
    "f0 = np.random.multivariate_normal(f0, cov, int(n_samples/2))\n",
    "f1 = np.random.multivariate_normal(f1, cov, int(n_samples/2))\n",
    "X2 = np.concatenate((f0, f1))\n",
    "y2 = np.concatenate((np.ones((int(n_samples/2))), np.ones((int(n_samples/2))) *(-1))).astype(np.int)\n",
    "random_index = np.random.permutation(np.arange(n_samples))\n",
    "X2 = X2[random_index]\n",
    "y2 = y2[random_index]"
   ]
  },
  {
   "cell_type": "code",
   "execution_count": 9,
   "metadata": {},
   "outputs": [
    {
     "name": "stderr",
     "output_type": "stream",
     "text": [
      "C:\\Anaconda3\\lib\\site-packages\\sklearn\\linear_model\\stochastic_gradient.py:166: FutureWarning: max_iter and tol parameters have been added in SGDClassifier in 0.19. If both are left unset, they default to max_iter=5 and tol=None. If tol is not None, max_iter defaults to max_iter=1000. From 0.21, default max_iter will be 1000, and default tol will be 1e-3.\n",
      "  FutureWarning)\n"
     ]
    },
    {
     "name": "stdout",
     "output_type": "stream",
     "text": [
      "Logistic Regression\n",
      "acc : 1.0\n",
      "precision : 1.0\n",
      "recall : 1.0\n",
      "f1 : 1.0\n",
      "confusion matrix \n",
      " [[56  0]\n",
      " [ 0 44]]\n",
      "\n"
     ]
    },
    {
     "data": {
      "image/png": "[encoded data removed]",
      "text/plain": [
       "<Figure size 432x288 with 1 Axes>"
      ]
     },
     "metadata": {
      "needs_background": "light"
     },
     "output_type": "display_data"
    },
    {
     "name": "stderr",
     "output_type": "stream",
     "text": [
      "C:\\Anaconda3\\lib\\site-packages\\sklearn\\svm\\base.py:196: FutureWarning: The default value of gamma will change from 'auto' to 'scale' in version 0.22 to account better for unscaled features. Set gamma explicitly to 'auto' or 'scale' to avoid this warning.\n",
      "  \"avoid this warning.\", FutureWarning)\n"
     ]
    },
    {
     "name": "stdout",
     "output_type": "stream",
     "text": [
      "SVM\n",
      "acc : 1.0\n",
      "precision : 1.0\n",
      "recall : 1.0\n",
      "f1 : 1.0\n",
      "confusion matrix \n",
      " [[56  0]\n",
      " [ 0 44]]\n",
      "\n"
     ]
    },
    {
     "data": {
      "image/png": "[encoded data removed]",
      "text/plain": [
       "<Figure size 432x288 with 1 Axes>"
      ]
     },
     "metadata": {
      "needs_background": "light"
     },
     "output_type": "display_data"
    },
    {
     "name": "stdout",
     "output_type": "stream",
     "text": [
      "Decision Tree\n",
      "acc : 1.0\n",
      "precision : 1.0\n",
      "recall : 1.0\n",
      "f1 : 1.0\n",
      "confusion matrix \n",
      " [[56  0]\n",
      " [ 0 44]]\n",
      "\n"
     ]
    },
    {
     "data": {
      "image/png": "[encoded data removed]",
      "text/plain": [
       "<Figure size 432x288 with 1 Axes>"
      ]
     },
     "metadata": {
      "needs_background": "light"
     },
     "output_type": "display_data"
    }
   ],
   "source": [
    "# シンプルデータセット1を3つの手法で学習、推定、評価\n",
    "X2_train, X2_test, y2_train, y2_test = scratch_train_test_split(X2, y2)\n",
    "y_predict(X2_train, X2_test, y2_train, y2_test)"
   ]
  },
  {
   "cell_type": "code",
   "execution_count": 10,
   "metadata": {},
   "outputs": [],
   "source": [
    "# シンプルデータセット2を用意\n",
    "X3 = np.array([[-0.44699 , -2.8073  ],[-1.4621  , -2.4586  ],\n",
    "        [ 0.10645 ,  1.9242  ],[-3.5944  , -4.0112  ],\n",
    "        [-0.9888  ,  4.5718  ],[-3.1625  , -3.9606  ],\n",
    "        [ 0.56421 ,  0.72888 ],[-0.60216 ,  8.4636  ],\n",
    "        [-0.61251 , -0.75345 ],[-0.73535 , -2.2718  ],\n",
    "        [-0.80647 , -2.2135  ],[ 0.86291 ,  2.3946  ],\n",
    "        [-3.1108  ,  0.15394 ],[-2.9362  ,  2.5462  ],\n",
    "        [-0.57242 , -2.9915  ],[ 1.4771  ,  3.4896  ],\n",
    "        [ 0.58619 ,  0.37158 ],[ 0.6017  ,  4.3439  ],\n",
    "        [-2.1086  ,  8.3428  ],[-4.1013  , -4.353   ],\n",
    "        [-1.9948  , -1.3927  ],[ 0.35084 , -0.031994],\n",
    "        [ 0.96765 ,  7.8929  ],[-1.281   , 15.6824  ],\n",
    "        [ 0.96765 , 10.083   ],[ 1.3763  ,  1.3347  ],\n",
    "        [-2.234   , -2.5323  ],[-2.9452  , -1.8219  ],\n",
    "        [ 0.14654 , -0.28733 ],[ 0.5461  ,  5.8245  ],\n",
    "        [-0.65259 ,  9.3444  ],[ 0.59912 ,  5.3524  ],\n",
    "        [ 0.50214 , -0.31818 ],[-3.0603  , -3.6461  ],\n",
    "        [-6.6797  ,  0.67661 ],[-2.353   , -0.72261 ],\n",
    "        [ 1.1319  ,  2.4023  ],[-0.12243 ,  9.0162  ],\n",
    "        [-2.5677  , 13.1779  ],[ 0.057313,  5.4681  ]])\n",
    "y3 = np.array([0, 0, 0, 0, 0, 0, 0, 0, 0, 0, 0, 0, 0, 0, 0, 0, 0, 0, 0, 0, 1, 1,\n",
    "        1, 1, 1, 1, 1, 1, 1, 1, 1, 1, 1, 1, 1, 1, 1, 1, 1, 1])"
   ]
  },
  {
   "cell_type": "code",
   "execution_count": 11,
   "metadata": {},
   "outputs": [
    {
     "name": "stderr",
     "output_type": "stream",
     "text": [
      "C:\\Anaconda3\\lib\\site-packages\\sklearn\\linear_model\\stochastic_gradient.py:166: FutureWarning: max_iter and tol parameters have been added in SGDClassifier in 0.19. If both are left unset, they default to max_iter=5 and tol=None. If tol is not None, max_iter defaults to max_iter=1000. From 0.21, default max_iter will be 1000, and default tol will be 1e-3.\n",
      "  FutureWarning)\n"
     ]
    },
    {
     "name": "stdout",
     "output_type": "stream",
     "text": [
      "Logistic Regression\n",
      "acc : 0.5\n",
      "precision : 0.42857142857142855\n",
      "recall : 1.0\n",
      "f1 : 0.6\n",
      "confusion matrix \n",
      " [[1 4]\n",
      " [0 3]]\n",
      "\n"
     ]
    },
    {
     "data": {
      "image/png": "[encoded data removed]",
      "text/plain": [
       "<Figure size 432x288 with 1 Axes>"
      ]
     },
     "metadata": {
      "needs_background": "light"
     },
     "output_type": "display_data"
    },
    {
     "name": "stderr",
     "output_type": "stream",
     "text": [
      "C:\\Anaconda3\\lib\\site-packages\\sklearn\\svm\\base.py:196: FutureWarning: The default value of gamma will change from 'auto' to 'scale' in version 0.22 to account better for unscaled features. Set gamma explicitly to 'auto' or 'scale' to avoid this warning.\n",
      "  \"avoid this warning.\", FutureWarning)\n"
     ]
    },
    {
     "name": "stdout",
     "output_type": "stream",
     "text": [
      "SVM\n",
      "acc : 0.75\n",
      "precision : 0.6\n",
      "recall : 1.0\n",
      "f1 : 0.7499999999999999\n",
      "confusion matrix \n",
      " [[3 2]\n",
      " [0 3]]\n",
      "\n"
     ]
    },
    {
     "data": {
      "image/png": "[encoded data removed]",
      "text/plain": [
       "<Figure size 432x288 with 1 Axes>"
      ]
     },
     "metadata": {
      "needs_background": "light"
     },
     "output_type": "display_data"
    },
    {
     "name": "stdout",
     "output_type": "stream",
     "text": [
      "Decision Tree\n",
      "acc : 1.0\n",
      "precision : 1.0\n",
      "recall : 1.0\n",
      "f1 : 1.0\n",
      "confusion matrix \n",
      " [[5 0]\n",
      " [0 3]]\n",
      "\n"
     ]
    },
    {
     "data": {
      "image/png": "[encoded data removed]",
      "text/plain": [
       "<Figure size 432x288 with 1 Axes>"
      ]
     },
     "metadata": {
      "needs_background": "light"
     },
     "output_type": "display_data"
    }
   ],
   "source": [
    "# シンプルデータセット2を3つの手法で学習、推定、評価\n",
    "X3_train, X3_test, y3_train, y3_test = scratch_train_test_split(X3, y3)\n",
    "y_predict(X3_train, X3_test, y3_train, y3_test)"
   ]
  },
  {
   "cell_type": "markdown",
   "metadata": {},
   "source": [
    "### 回帰問題\n",
    "回帰は1種類をスクラッチします。\n",
    "\n",
    "- 線形回帰\n",
    "線形回帰は勾配降下法を用いて計算するSGDRegressorクラスを利用してください。\n",
    "\n",
    "[sklearn.linear_model.SGDRegressor — scikit-learn 0.21.3 documentation](https://scikit-learn.org/stable/modules/generated/sklearn.linear_model.SGDRegressor.html)\n",
    "\n",
    "データセットは事前学習期間同様にHouse Pricesコンペティションのものを使います。\n",
    "\n",
    "[House Prices: Advanced Regression Techniques](https://www.kaggle.com/c/house-prices-advanced-regression-techniques/data)\n",
    "\n",
    "train.csvをダウンロードし、目的変数としてSalePrice、説明変数として、GrLivAreaとYearBuiltを使います。"
   ]
  },
  {
   "cell_type": "markdown",
   "metadata": {},
   "source": [
    "＿＿＿＿＿＿＿＿＿＿＿＿＿＿＿＿＿＿＿＿＿＿＿＿＿＿＿＿＿＿＿＿＿＿＿＿＿＿＿＿＿＿＿＿＿＿＿＿＿＿＿＿＿＿\n",
    "### 【問題3】 回帰問題を解くコードの作成\n",
    "線形回帰でHouse Pricesデータセットを学習・推定するコードを作成してください。"
   ]
  },
  {
   "cell_type": "code",
   "execution_count": 12,
   "metadata": {},
   "outputs": [
    {
     "name": "stdout",
     "output_type": "stream",
     "text": [
      "SGD Regression\n",
      "MSE : 3.5177857624565744e+31\n"
     ]
    },
    {
     "name": "stderr",
     "output_type": "stream",
     "text": [
      "C:\\Anaconda3\\lib\\site-packages\\sklearn\\linear_model\\stochastic_gradient.py:166: FutureWarning: max_iter and tol parameters have been added in SGDRegressor in 0.19. If both are left unset, they default to max_iter=5 and tol=None. If tol is not None, max_iter defaults to max_iter=1000. From 0.21, default max_iter will be 1000, and default tol will be 1e-3.\n",
      "  FutureWarning)\n"
     ]
    }
   ],
   "source": [
    "house_prices_data = pd.read_csv('train.csv') # HousePrices データセットを取得\n",
    "X4 = np.array(house_prices_data.loc[:, ['GrLivArea', 'YearBuilt']]) # 説明変数をX4に格納\n",
    "y4 = np.array(house_prices_data['SalePrice']) # 目的変数にy4に格納\n",
    "\n",
    "X4_train, X4_test, y4_train, y4_test = scratch_train_test_split(X4, y4) # X4,y4を分割\n",
    "\n",
    "model_name = \"SGD Regression\"\n",
    "model = linear_model.SGDRegressor()\n",
    "model.fit(X4_train, y4_train) # 学習\n",
    "y4_pred = model.predict(X4_test) # 推定\n",
    "print(model_name)   \n",
    "print(\"MSE : {}\".format(mean_squared_error(y4_test, y4_pred))) # 評価"
   ]
  }
 ],
 "metadata": {
  "kernelspec": {
   "display_name": "Python 3",
   "language": "python",
   "name": "python3"
  },
  "language_info": {
   "codemirror_mode": {
    "name": "ipython",
    "version": 3
   },
   "file_extension": ".py",
   "mimetype": "text/x-python",
   "name": "python",
   "nbconvert_exporter": "python",
   "pygments_lexer": "ipython3",
   "version": "3.7.3"
  }
 },
 "nbformat": 4,
 "nbformat_minor": 2
}
