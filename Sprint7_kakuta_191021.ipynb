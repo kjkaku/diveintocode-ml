{
 "cells": [
  {
   "cell_type": "markdown",
   "metadata": {},
   "source": [
    "# Sprint7 機械学習スクラッチ クラスタリング\n",
    "## 1.このSprintについて\n",
    "### Sprintの目的\n",
    "- スクラッチを通してK-meansを理解する\n",
    "- クラスタ分析を行う\n",
    "\n",
    "### どのように学ぶか\n",
    "スクラッチでK-meansを実装した後、それを使用しクラスタ分析を行います。\n",
    "\n",
    "## 2.K-meansスクラッチ\n",
    "K-meansのクラスをスクラッチで作成していきます。NumPyなど最低限のライブラリのみを使いアルゴリズムを実装していきます。\n",
    "\n",
    "以下に雛形を用意してあります。このScratchKMeansクラスにコードを書き加えていってください。\n",
    "\n",
    "#### 《雛形》\n",
    "```\n",
    "class ScratchKMeans():\n",
    "    \"\"\"\n",
    "    K-meansのスクラッチ実装\n",
    "\n",
    "    Parameters\n",
    "    ----------\n",
    "    n_clusters : int\n",
    "      クラスタ数\n",
    "    n_init : int\n",
    "      中心点の初期値を何回変えて計算するか\n",
    "    max_iter : int\n",
    "      1回の計算で最大何イテレーションするか\n",
    "    tol : float\n",
    "      イテレーションを終了する基準となる中心点と重心の許容誤差\n",
    "    verbose : bool\n",
    "      学習過程を出力する場合はTrue\n",
    "    \"\"\"\n",
    "\n",
    "    def __init__(self, n_clusters, n_init, max_iter, tol, verbose=False):\n",
    "        # ハイパーパラメータを属性として記録\n",
    "        self.n_clusters = n_clusters\n",
    "        self.n_init = n_init\n",
    "        self.max_iter = max_iter\n",
    "        self.tol  tol\n",
    "        self.verbose = verbose\n",
    "\n",
    "    def fit(self, X):\n",
    "        \"\"\"\n",
    "        K-meansによるクラスタリングを計算\n",
    "        Parameters\n",
    "        ----------\n",
    "        X : 次の形のndarray, shape (n_samples, n_features)\n",
    "            学習用データの特徴量\n",
    "        \"\"\"\n",
    "\n",
    "        if self.verbose:\n",
    "            #verboseをTrueにした際は学習過程を出力\n",
    "            print()\n",
    "        pass\n",
    "\n",
    "    def predict(self, X):\n",
    "        \"\"\"\n",
    "        入力されたデータがどのクラスタに属するかを計算\n",
    "        \"\"\"\n",
    "\n",
    "        pass\n",
    "        return\n",
    "```\n",
    "### クラスタリングのための人工データセット\n",
    "クラスタリングを実験するための人工データセットを作成するコードを用意しています。\n",
    "\n",
    "このmake_blobs関数は正解ラベルも出力してますが、今回は使用しません。使用しないことを明示するために、 _（アンダースコア） で受け取っています。\n",
    "#### 《シンプルデータセット3》"
   ]
  },
  {
   "cell_type": "code",
   "execution_count": 1,
   "metadata": {},
   "outputs": [],
   "source": [
    "import numpy as np\n",
    "import random\n",
    "import matplotlib.pyplot as plt\n",
    "import pandas as pd\n",
    "from sklearn.datasets import make_blobs\n",
    "X, _ = make_blobs(n_samples=100, n_features=2, centers=4, cluster_std=0.5, shuffle=True, random_state=0)\n",
    "#print(X)"
   ]
  },
  {
   "cell_type": "code",
   "execution_count": 2,
   "metadata": {},
   "outputs": [],
   "source": [
    "def get_gravity(X, mu):\n",
    "    distances = np.empty((X.shape[0], 3))\n",
    "    for i in range(3):\n",
    "        distances[:, i] = np.linalg.norm(X-mu[i], ord=2, axis=1)\n",
    "    #print(distances)\n",
    "    best_distance = np.min(distances, axis=1)\n",
    "    #print(best_distance)\n",
    "    #print(np.where(best_distance))\n",
    "    best_class = np.argmin(distances, axis=1)\n",
    "    #print(best_class)\n",
    "    #print(X[best_class==0])\n",
    "random.seed(0)\n",
    "mu = X[np.array(random.sample(range(X.shape[0]), 3))]\n",
    "#print(mu)\n",
    "#print(X)\n",
    "\n",
    "get_gravity(X, mu)"
   ]
  },
  {
   "cell_type": "markdown",
   "metadata": {},
   "source": [
    "#### 学習\n",
    "K-meansの学習に必要な要素を順番に作成していきます。"
   ]
  },
  {
   "cell_type": "code",
   "execution_count": 3,
   "metadata": {},
   "outputs": [],
   "source": [
    "class ScratchKMeans():\n",
    "    \"\"\"\n",
    "    K-meansのスクラッチ実装\n",
    "\n",
    "    Parameters\n",
    "    ----------\n",
    "    n_clusters : int\n",
    "      クラスタ数\n",
    "    n_init : int\n",
    "      中心点の初期値を何回変えて計算するか\n",
    "    max_iter : int\n",
    "      1回の計算で最大何イテレーションするか\n",
    "    tol : float\n",
    "      イテレーションを終了する基準となる中心点と重心の許容誤差\n",
    "    verbose : bool\n",
    "      学習過程を出力する場合はTrue\n",
    "    \"\"\"\n",
    "\n",
    "    def __init__(self, n_clusters, n_init, max_iter, tol, verbose=False):\n",
    "        # ハイパーパラメータを属性として記録\n",
    "        self.n_clusters = n_clusters\n",
    "        self.n_init = n_init\n",
    "        self.max_iter = max_iter\n",
    "        self.tol = tol\n",
    "        self.verbose = verbose\n",
    "\n",
    "    def fit(self, X):\n",
    "        \"\"\"\n",
    "        K-meansによるクラスタリングを計算\n",
    "        Parameters\n",
    "        ----------\n",
    "        X : 次の形のndarray, shape (n_samples, n_features)\n",
    "            学習用データの特徴量\n",
    "        \"\"\"\n",
    "        sses = np.empty(self.n_init)\n",
    "        mues = np.empty(X.shape[1]*self.n_clusters*self.n_init).reshape(self.n_init, self.n_clusters, X.shape[1])\n",
    "        \n",
    "        for iter in range(self.n_init):\n",
    "            random.seed(iter)\n",
    "            self.mu = X[np.array(random.sample(range(X.shape[0]), self.n_clusters))]\n",
    "            \n",
    "            if self.verbose:\n",
    "                #verboseをTrueにした際は学習過程を出力\n",
    "                print(\"{} 回目の初期値のmu\\n{}\\n\".format(iter+1, self.mu))\n",
    "\n",
    "            for i in range(self.max_iter):\n",
    "                old_mu = self.mu.copy()\n",
    "                self.get_gravity(X, self.mu)\n",
    "\n",
    "                if np.mean(np.linalg.norm(old_mu-self.mu, ord=2, axis=1)) <= self.tol:\n",
    "                    break\n",
    "                \n",
    "                if self.verbose:\n",
    "                    #verboseをTrueにした際は学習過程を出力      \n",
    "                    print(\"{}回目の中心点を移動したmu\\n{}\\n\".format(i+1, self.mu))\n",
    "            \n",
    "            sses[iter] = self.SSE(X)\n",
    "            mues[iter, :, :] = self.mu\n",
    "           \n",
    "        best_n_int = np.argmin(sses) \n",
    "        self.best_sse = np.min(sses)\n",
    "        self.best_mu = mues[best_n_int]\n",
    "        #print(\"best_mu\\n{}\\n\".format(self.best_mu))\n",
    "                    \n",
    "        pass\n",
    "\n",
    "    def predict(self, X):\n",
    "        \"\"\"\n",
    "        入力されたデータがどのクラスタに属するかを計算\n",
    "        \"\"\"\n",
    "        self.get_gravity(X, self.best_mu)\n",
    "        return self.best_class\n",
    "    \n",
    "    def SSE(self, X):\n",
    "        self.sse = sum(self.best_distance)\n",
    "        return self.sse\n",
    "        \n",
    "    def get_gravity(self, X, mu):\n",
    "        distances = np.empty((X.shape[0], self.n_clusters))\n",
    "        for i in range(self.n_clusters):\n",
    "            distances[:, i] = np.linalg.norm(X-mu[i], ord=2, axis=1)\n",
    "        self.best_distance = np.min(distances, axis=1)\n",
    "        self.best_class = np.argmin(distances, axis=1)    \n",
    "        \n",
    "        for i in range(self.n_clusters):\n",
    "            self.mu[i] = np.mean(X[self.best_class==i], axis=0)"
   ]
  },
  {
   "cell_type": "markdown",
   "metadata": {},
   "source": [
    "＿＿＿＿＿＿＿＿＿＿＿＿＿＿＿＿＿＿＿＿＿＿＿＿＿＿＿＿＿＿＿＿＿＿＿＿＿＿＿＿＿＿＿＿＿＿＿＿＿＿＿＿＿＿\n",
    "### 【問題1】中心点の初期値を決める\n",
    "入力されたデータから$K$個の中心点$\\mu_1$から$\\mu_K$の初期値を決めるコードを作成してください$K$は指定したクラスタ数です。最もシンプルな初期値の決定方法は、データ点$X_n$の中からランダムに$K$個選ぶことです。今回はこれを実装してください。\n",
    "\n",
    "K-meansの学習結果は中心点$\\mu$の初期値に影響を受けます。そのため、学習時には複数個の初期値で計算を行います。"
   ]
  },
  {
   "cell_type": "markdown",
   "metadata": {},
   "source": [
    "＿＿＿＿＿＿＿＿＿＿＿＿＿＿＿＿＿＿＿＿＿＿＿＿＿＿＿＿＿＿＿＿＿＿＿＿＿＿＿＿＿＿＿＿＿＿＿＿＿＿＿＿＿＿\n",
    "### 【問題2】SSEを求める関数の作成\n",
    "クラスタ内誤差平方和（SSE, Sum of Squared Errors）を計算する関数を作成してください。\n",
    "\n",
    "K-meansはこのSSEを最小化する$r_{nk}$と$\\mu_k$を求めることが目的となります。複数個の初期値で計算したクラスタリング結果から、どれを最終的に採用するかを決める際にこのSSEを求める関数を使用します。\n",
    "$$SSE = \\sum_{n=1}^N\\sum_{K=1}^Kr_{nk}||X_n - \\mu_k||^2$$\n",
    "\n",
    "$n$  : データ点のインデックス\n",
    "\n",
    "$k$ : クラスタのインデックス\n",
    "\n",
    "$X_n$ : n番目のデータ点\n",
    "\n",
    "$\\mu_k$ :k番目の中心点\n",
    "\n",
    "$r_{nk}$ : データ点$X_n$がクラスタkに所属していたら1、そうでなければ0"
   ]
  },
  {
   "cell_type": "markdown",
   "metadata": {},
   "source": [
    "### クラスタの割り当てと中心点の移動を繰り返す\n",
    "K-meansの学習の基本は以下の2つのフェーズを繰り返すことです。\n",
    "\n",
    "- 中心点$\\mu_k$を固定した上で$SSE$を最小化する クラスタの割り当て$r_{nk}$を選ぶ。\n",
    "- クラスタの割り当て$r_{nk}$を固定した上で $SSE$を最小化する中心点$\\mu_k$を選ぶ。\n",
    "\n",
    "最初の中心点 $\\mu_k$は問題1で作成した初期値です。\n",
    "\n",
    "順番に見ていきます。"
   ]
  },
  {
   "cell_type": "markdown",
   "metadata": {},
   "source": [
    "＿＿＿＿＿＿＿＿＿＿＿＿＿＿＿＿＿＿＿＿＿＿＿＿＿＿＿＿＿＿＿＿＿＿＿＿＿＿＿＿＿＿＿＿＿＿＿＿＿＿＿＿＿＿\n",
    "### 【問題3】クラスタへの割り当て\n",
    "全てのデータ点$X_n$を最も近い中心点$\\mu_k$に割り当てるコードを作成してください。\n",
    "\n",
    "K-menasにおける **近い** とは点と点のユークリッド距離が小さくなることです。ユークリッド距離とはピタゴラスの定理（三平方の定理）で求められるものですが、ベクトル $p,q$ に対しては以下の数式で表現できます。\n",
    "$$||q - p|| = \\sqrt{(q - p) \\cdot(q - p)}$$\n",
    "\n",
    "NumPyにはこの関数が*np.linalg.norm*として用意されているため使用してください。\n",
    "\n",
    "[numpy.linalg.norm — NumPy v1.17 Manual](https://docs.scipy.org/doc/numpy/reference/generated/numpy.linalg.norm.html)\n",
    "\n",
    "中心点 $\\mu_k$を固定した上でSSEを最小化していることになりますが、SSE自体を求める必要はありません。"
   ]
  },
  {
   "cell_type": "markdown",
   "metadata": {},
   "source": [
    "＿＿＿＿＿＿＿＿＿＿＿＿＿＿＿＿＿＿＿＿＿＿＿＿＿＿＿＿＿＿＿＿＿＿＿＿＿＿＿＿＿＿＿＿＿＿＿＿＿＿＿＿＿＿\n",
    "### 【問題4】中心点の移動\n",
    "中心点 $\\mu_k$を$k$番目のクラスタに割り当てられる全てのデータ点 $X_n$の平均値（重心）に移動するコードを作成してください。\n",
    "\n",
    "クラスタの割り当て $r_{nk}$を固定した上でSSEを最小化していることになりますが、SSE自体を求める必要はありません。"
   ]
  },
  {
   "cell_type": "markdown",
   "metadata": {},
   "source": [
    "＿＿＿＿＿＿＿＿＿＿＿＿＿＿＿＿＿＿＿＿＿＿＿＿＿＿＿＿＿＿＿＿＿＿＿＿＿＿＿＿＿＿＿＿＿＿＿＿＿＿＿＿＿＿\n",
    "### 【問題5】繰り返し\n",
    "クラスタへの割り当てと中心点の移動を繰り返すことで学習を行うコードを作成してください。\n",
    "\n",
    "次のどれかの条件を満たしたらこれを止めます。\n",
    "\n",
    "- 繰り返しが指定した回数に到達する。（雛形では引数max_iter）\n",
    "- 中心点 $\\mu_k$と重心の差が指定した許容値以下になる。（雛形では引数tol）"
   ]
  },
  {
   "cell_type": "markdown",
   "metadata": {},
   "source": [
    "＿＿＿＿＿＿＿＿＿＿＿＿＿＿＿＿＿＿＿＿＿＿＿＿＿＿＿＿＿＿＿＿＿＿＿＿＿＿＿＿＿＿＿＿＿＿＿＿＿＿＿＿＿＿\n",
    "### 【問題6】異なる初期値で計算\n",
    "問題5の繰り返しを、指定した回数初期値を変更して計算するコードを作成してください。回数は雛形では引数$n_init$で指定します。\n",
    "\n",
    "複数計算した中で$SSE$が最小になったものが最終的な学習結果となるため、その時の中心点 $\\mu_k$を保持しておきます。"
   ]
  },
  {
   "cell_type": "markdown",
   "metadata": {},
   "source": [
    "＿＿＿＿＿＿＿＿＿＿＿＿＿＿＿＿＿＿＿＿＿＿＿＿＿＿＿＿＿＿＿＿＿＿＿＿＿＿＿＿＿＿＿＿＿＿＿＿＿＿＿＿＿＿\n",
    "### 【問題7】推定\n",
    "新たなデータに対してどのクラスタに所属するかの推定の際は、学習時の1つ目のフェーズと同じことを行います。\n",
    "\n",
    "- データ点 $X_n$ と学習で決まった中心点 $\\mu_k$ に対し、 $SSE$ を最小化する $r_{nk}$ を選ぶ。\n",
    "\n",
    "具体的には次のことです。\n",
    "\n",
    "- データ点 $X_n$ を最も近い$\\mu_k$ に割り当てる。"
   ]
  },
  {
   "cell_type": "code",
   "execution_count": 4,
   "metadata": {},
   "outputs": [
    {
     "name": "stdout",
     "output_type": "stream",
     "text": [
      "[3 2 3 3 3 3 1 2 3 2 2 2 2 2 2 0 0 1 1 0 3 2 1 0 3 1 1 3 0 0 0 2 0 0 1 3 2\n",
      " 0 2 1 3 1 2 1 1 2 0 1 3 3 3 0 1 1 1 2 2 0 0 2 2 0 0 3 0 2 1 1 0 3 2 0 3 2\n",
      " 3 3 1 1 0 0 0 2 1 3 0 1 0 0 3 3 3 1 3 1 1 2 2 1 2 3]\n"
     ]
    }
   ],
   "source": [
    "classifier = ScratchKMeans(n_clusters=4, n_init=4, max_iter=20, tol=1e-5, verbose=False)\n",
    "classifier.fit(X)\n",
    "y_pred = classifier.predict(X)\n",
    "print(y_pred)"
   ]
  },
  {
   "cell_type": "code",
   "execution_count": 5,
   "metadata": {},
   "outputs": [
    {
     "data": {
      "image/png": "[encoded data removed]",
      "text/plain": [
       "<Figure size 432x288 with 1 Axes>"
      ]
     },
     "metadata": {
      "needs_background": "light"
     },
     "output_type": "display_data"
    }
   ],
   "source": [
    "colors = ['red', 'blue', 'green', 'yellow', 'black', 'pink']\n",
    "for i in range(classifier.n_clusters):\n",
    "    plt.scatter(X[y_pred==i, 0], X[y_pred==i, 1], color=colors[i], label=i)\n",
    "    plt.scatter(classifier.best_mu[i, 0], classifier.best_mu[i, 1], color=colors[i], marker='x')\n",
    "plt.xlabel('x0')\n",
    "plt.ylabel('x1)')\n",
    "plt.legend()\n",
    "plt.show()"
   ]
  },
  {
   "cell_type": "markdown",
   "metadata": {},
   "source": [
    "＿＿＿＿＿＿＿＿＿＿＿＿＿＿＿＿＿＿＿＿＿＿＿＿＿＿＿＿＿＿＿＿＿＿＿＿＿＿＿＿＿＿＿＿＿＿＿＿＿＿＿＿＿＿\n",
    "### 【問題8】エルボー法の実装\n",
    "K-meansにおいて中心点の個数 $k$ は人為的に決める必要がありますが、その判断方法としてエルボー法があります。エルボー法により中心点の個数 $k$ を検討するためのコードを作成してください。$SSE$を縦軸、クラスタ数 $k$ を横軸にした折れ線グラフを表示します。このためにK-meansのインスタンスからは$SSE$を取得できるようにしてください。"
   ]
  },
  {
   "cell_type": "code",
   "execution_count": 6,
   "metadata": {},
   "outputs": [
    {
     "data": {
      "image/png": "[encoded data removed]",
      "text/plain": [
       "<Figure size 432x288 with 1 Axes>"
      ]
     },
     "metadata": {
      "needs_background": "light"
     },
     "output_type": "display_data"
    }
   ],
   "source": [
    "sse_array = np.empty(X.shape[0]-1)\n",
    "for k in range(1, X.shape[0]):\n",
    "    classifier = ScratchKMeans(n_clusters=k, n_init=3, max_iter=20, tol=0.0001, verbose=False)\n",
    "    classifier.fit(X)\n",
    "    sse_array[k-1] = classifier.best_sse\n",
    "\n",
    "plt.title('Elbow method curve')\n",
    "plt.xlabel('k')\n",
    "plt.ylabel('SSE')\n",
    "plt.plot(np.arange(1, 11), sse_array[0:10])\n",
    "plt.show()"
   ]
  },
  {
   "cell_type": "markdown",
   "metadata": {},
   "source": [
    "＿＿＿＿＿＿＿＿＿＿＿＿＿＿＿＿＿＿＿＿＿＿＿＿＿＿＿＿＿＿＿＿＿＿＿＿＿＿＿＿＿＿＿＿＿＿＿＿＿＿＿＿＿＿\n",
    "### 【問題9】（アドバンス課題）シルエット図\n",
    "$k$ を決める助けになるものとしてシルエット図もあります。シルエット図を表示するコードを作成してください。\n",
    "\n",
    "Matplotlibを使い図を表示するコードは用意しました。以下を与えてください。\n",
    "\n",
    "silhouette_vals : shape(n_samples,)のndarray、各データ点のシルエット係数\n",
    "\n",
    "silhouette_avg : float、シルエット係数の平均値\n",
    "\n",
    "y_km : shape(n_samples,)のndarray、各データ点のクラスタラベル名\n",
    "\n",
    "cluster_labels : list、クラスタのラベル名のリスト\n",
    "\n",
    "n_clusters : int、クラスタ数\n",
    "\n",
    "$n$ 番目のデータ点に対するシルエット係数 $s_n$ は以下の数式でを求められます。この数式を実装し、シルエット図を確認してください。\n",
    "\n",
    "$$s_n = \\frac{b_n - a_n}{max(b_n, a_n)}$$\n",
    "\n",
    "$a_n$  : 凝集度。同じクラスタ内の他のデータ点との距離の平均値。\n",
    "\n",
    "$b_n$ : 乖離度。最も近い他のクラスタ内の全てのデータ点との距離の平均値。\n",
    "\n",
    "乖離度 $b$ が大きく、凝集度 $a$ が小さい時が理想的であり、シルエット係数 $s$ は1に近くなります。\n",
    "\n",
    "#### 《シルエット図を表示するためのコード》\n",
    "```\n",
    "from matplotlib import cm\n",
    "\n",
    "y_ax_lower, y_ax_upper = 0, 0\n",
    "yticks = []\n",
    "for i, c in enumerate(cluster_labels):\n",
    "    c_silhouette_vals = silhouette_vals[y_km == c]\n",
    "    c_silhouette_vals.sort()\n",
    "    y_ax_upper += len(c_silhouette_vals)\n",
    "    color = cm.jet(i / n_clusters)\n",
    "    plt.barh(range(y_ax_lower, y_ax_upper), c_silhouette_vals, height=1.0, edgecolor='none', color=color)\n",
    "    yticks.append((y_ax_lower + y_ax_upper) / 2)\n",
    "    y_ax_lower += len(c_silhouette_vals)\n",
    "\n",
    "plt.axvline(silhouette_avg, color=\"red\", linestyle=\"--\")\n",
    "plt.yticks(yticks, cluster_labels + 1)\n",
    "plt.ylabel('Cluster')\n",
    "plt.xlabel('Silhouette coefficient')\n",
    "plt.show()\n",
    "```"
   ]
  },
  {
   "cell_type": "code",
   "execution_count": 7,
   "metadata": {},
   "outputs": [
    {
     "data": {
      "image/png": "[encoded data removed]",
      "text/plain": [
       "<Figure size 432x288 with 1 Axes>"
      ]
     },
     "metadata": {
      "needs_background": "light"
     },
     "output_type": "display_data"
    }
   ],
   "source": [
    "from matplotlib import cm\n",
    "\n",
    "classifier = ScratchKMeans(n_clusters=4, n_init=3, max_iter=20, tol=0.0001, verbose=False)\n",
    "classifier.fit(X)\n",
    "y_pred = classifier.predict(X)\n",
    "\n",
    "y_km = y_pred\n",
    "cluster_labels = np.unique(y_km)\n",
    "\n",
    "y_ax_lower, y_ax_upper = 0, 0\n",
    "yticks = []\n",
    "\n",
    "silhouette_vals = np.empty(len(y_pred))\n",
    "for i in range(len(y_pred)):\n",
    "    nearest_class = cluster_labels[np.argsort(np.linalg.norm(classifier.best_mu-X[i], ord=2, axis=1))[1]]\n",
    "    a = np.mean(np.linalg.norm(X[y_pred==y_pred[i]]-X[i], ord=2, axis=1))\n",
    "    b = np.mean(np.linalg.norm(X[y_pred==nearest_class]-X[i], ord=2, axis=1))\n",
    "    silhouette_vals[i] = (b-a) / max(b, a)\n",
    "#print(silhouette_vals)\n",
    "\n",
    "silhouette_avg = np.mean(silhouette_vals)\n",
    "\n",
    "for i, c in enumerate(cluster_labels):\n",
    "    c_silhouette_vals = silhouette_vals[y_km == c]\n",
    "    c_silhouette_vals.sort()\n",
    "    y_ax_upper += len(c_silhouette_vals)\n",
    "    color = cm.jet(i / classifier.n_clusters)\n",
    "    plt.barh(range(y_ax_lower, y_ax_upper), c_silhouette_vals, height=1.0, edgecolor='none', color=color)\n",
    "    yticks.append((y_ax_lower + y_ax_upper) / 2)\n",
    "    y_ax_lower += len(c_silhouette_vals)\n",
    "\n",
    "plt.axvline(silhouette_avg, color=\"red\", linestyle=\"--\")\n",
    "plt.yticks(yticks, cluster_labels)\n",
    "plt.ylabel('Cluster')\n",
    "plt.xlabel('Silhouette coefficient')\n",
    "plt.show()"
   ]
  },
  {
   "cell_type": "markdown",
   "metadata": {},
   "source": [
    "## 3.クラスタ分析\n",
    "\n",
    "### 卸売業者のデータ分析\n",
    "クラスタリングを利用法を学ぶために、Wholesale customers Data Setを使用します。\n",
    "\n",
    "[UCI Machine Learning Repository: Wholesale customers Data Set](https://archive.ics.uci.edu/ml/datasets/Wholesale+customers)\n",
    "\n",
    "Data Folderの中からWholesale customers data.csvをダウンロードしてください。これはポルトガルのリスボンにある卸売業者（wholesale）が顧客から集めたデータです。中身は各顧客が年間でミルクや食料品を何ユーロ購入しているかというデータになっています。顧客は小売店やレストランです。RegionとChannelは取り覗き、金額のデータでK-meansを利用します。\n",
    "\n",
    "### 次元削減\n",
    "金額に関する特徴量は6個ありますが、可視化するために次元削減を行います。これに関してはscikit-learnによるPCAのサンプルコードを用意したので利用してください。\n",
    "\n",
    "#### 《PCAのサンプルコード》\n",
    "```\n",
    "from sklearn.decomposition import PCA\n",
    "pca = PCA(n_components = 2)\n",
    "pca = pca.fit(data)\n",
    "data_pca = pca.transform(data)\n",
    "```\n",
    "#### 《PCAの分散説明率を表示するコードサンプル》\n",
    "```\n",
    "from sklearn.decomposition import PCA\n",
    "import matplotlib.pyplot as plt\n",
    "pca = PCA(n_components=None)\n",
    "pca = pca.fit(data)\n",
    "var_exp = pca.explained_variance_ratio_\n",
    "cum_var_exp = np.cumsum(var_exp)\n",
    "print(cum_var_exp)\n",
    "plt.bar(range(1,7), var_exp, alpha=0.5, align='center', label='individual explained variance')\n",
    "plt.step(range(1,7), cum_var_exp, where='mid', label='cumulative expalined variance')\n",
    "plt.ylabel('Explained variance ratio')\n",
    "plt.xlabel('Principal components')\n",
    "plt.hlines(0.7, 0, 6,  \"blue\", linestyles='dashed')\n",
    "plt.legend(loc='best')\n",
    "plt.grid()\n",
    "plt.show()\n",
    "```"
   ]
  },
  {
   "cell_type": "code",
   "execution_count": 30,
   "metadata": {},
   "outputs": [
    {
     "data": {
      "text/html": [
       "<div>\n",
       "<style scoped>\n",
       "    .dataframe tbody tr th:only-of-type {\n",
       "        vertical-align: middle;\n",
       "    }\n",
       "\n",
       "    .dataframe tbody tr th {\n",
       "        vertical-align: top;\n",
       "    }\n",
       "\n",
       "    .dataframe thead th {\n",
       "        text-align: right;\n",
       "    }\n",
       "</style>\n",
       "<table border=\"1\" class=\"dataframe\">\n",
       "  <thead>\n",
       "    <tr style=\"text-align: right;\">\n",
       "      <th></th>\n",
       "      <th>Channel</th>\n",
       "      <th>Region</th>\n",
       "      <th>Fresh</th>\n",
       "      <th>Milk</th>\n",
       "      <th>Grocery</th>\n",
       "      <th>Frozen</th>\n",
       "      <th>Detergents_Paper</th>\n",
       "      <th>Delicassen</th>\n",
       "    </tr>\n",
       "  </thead>\n",
       "  <tbody>\n",
       "    <tr>\n",
       "      <th>0</th>\n",
       "      <td>2</td>\n",
       "      <td>3</td>\n",
       "      <td>12669</td>\n",
       "      <td>9656</td>\n",
       "      <td>7561</td>\n",
       "      <td>214</td>\n",
       "      <td>2674</td>\n",
       "      <td>1338</td>\n",
       "    </tr>\n",
       "    <tr>\n",
       "      <th>1</th>\n",
       "      <td>2</td>\n",
       "      <td>3</td>\n",
       "      <td>7057</td>\n",
       "      <td>9810</td>\n",
       "      <td>9568</td>\n",
       "      <td>1762</td>\n",
       "      <td>3293</td>\n",
       "      <td>1776</td>\n",
       "    </tr>\n",
       "    <tr>\n",
       "      <th>2</th>\n",
       "      <td>2</td>\n",
       "      <td>3</td>\n",
       "      <td>6353</td>\n",
       "      <td>8808</td>\n",
       "      <td>7684</td>\n",
       "      <td>2405</td>\n",
       "      <td>3516</td>\n",
       "      <td>7844</td>\n",
       "    </tr>\n",
       "    <tr>\n",
       "      <th>3</th>\n",
       "      <td>1</td>\n",
       "      <td>3</td>\n",
       "      <td>13265</td>\n",
       "      <td>1196</td>\n",
       "      <td>4221</td>\n",
       "      <td>6404</td>\n",
       "      <td>507</td>\n",
       "      <td>1788</td>\n",
       "    </tr>\n",
       "    <tr>\n",
       "      <th>4</th>\n",
       "      <td>2</td>\n",
       "      <td>3</td>\n",
       "      <td>22615</td>\n",
       "      <td>5410</td>\n",
       "      <td>7198</td>\n",
       "      <td>3915</td>\n",
       "      <td>1777</td>\n",
       "      <td>5185</td>\n",
       "    </tr>\n",
       "  </tbody>\n",
       "</table>\n",
       "</div>"
      ],
      "text/plain": [
       "   Channel  Region  Fresh  Milk  Grocery  Frozen  Detergents_Paper  Delicassen\n",
       "0        2       3  12669  9656     7561     214              2674        1338\n",
       "1        2       3   7057  9810     9568    1762              3293        1776\n",
       "2        2       3   6353  8808     7684    2405              3516        7844\n",
       "3        1       3  13265  1196     4221    6404               507        1788\n",
       "4        2       3  22615  5410     7198    3915              1777        5185"
      ]
     },
     "metadata": {},
     "output_type": "display_data"
    },
    {
     "data": {
      "text/html": [
       "<div>\n",
       "<style scoped>\n",
       "    .dataframe tbody tr th:only-of-type {\n",
       "        vertical-align: middle;\n",
       "    }\n",
       "\n",
       "    .dataframe tbody tr th {\n",
       "        vertical-align: top;\n",
       "    }\n",
       "\n",
       "    .dataframe thead th {\n",
       "        text-align: right;\n",
       "    }\n",
       "</style>\n",
       "<table border=\"1\" class=\"dataframe\">\n",
       "  <thead>\n",
       "    <tr style=\"text-align: right;\">\n",
       "      <th></th>\n",
       "      <th>Fresh</th>\n",
       "      <th>Milk</th>\n",
       "      <th>Grocery</th>\n",
       "      <th>Frozen</th>\n",
       "      <th>Detergents_Paper</th>\n",
       "      <th>Delicassen</th>\n",
       "    </tr>\n",
       "  </thead>\n",
       "  <tbody>\n",
       "    <tr>\n",
       "      <th>0</th>\n",
       "      <td>12669</td>\n",
       "      <td>9656</td>\n",
       "      <td>7561</td>\n",
       "      <td>214</td>\n",
       "      <td>2674</td>\n",
       "      <td>1338</td>\n",
       "    </tr>\n",
       "    <tr>\n",
       "      <th>1</th>\n",
       "      <td>7057</td>\n",
       "      <td>9810</td>\n",
       "      <td>9568</td>\n",
       "      <td>1762</td>\n",
       "      <td>3293</td>\n",
       "      <td>1776</td>\n",
       "    </tr>\n",
       "    <tr>\n",
       "      <th>2</th>\n",
       "      <td>6353</td>\n",
       "      <td>8808</td>\n",
       "      <td>7684</td>\n",
       "      <td>2405</td>\n",
       "      <td>3516</td>\n",
       "      <td>7844</td>\n",
       "    </tr>\n",
       "    <tr>\n",
       "      <th>3</th>\n",
       "      <td>13265</td>\n",
       "      <td>1196</td>\n",
       "      <td>4221</td>\n",
       "      <td>6404</td>\n",
       "      <td>507</td>\n",
       "      <td>1788</td>\n",
       "    </tr>\n",
       "    <tr>\n",
       "      <th>4</th>\n",
       "      <td>22615</td>\n",
       "      <td>5410</td>\n",
       "      <td>7198</td>\n",
       "      <td>3915</td>\n",
       "      <td>1777</td>\n",
       "      <td>5185</td>\n",
       "    </tr>\n",
       "  </tbody>\n",
       "</table>\n",
       "</div>"
      ],
      "text/plain": [
       "   Fresh  Milk  Grocery  Frozen  Detergents_Paper  Delicassen\n",
       "0  12669  9656     7561     214              2674        1338\n",
       "1   7057  9810     9568    1762              3293        1776\n",
       "2   6353  8808     7684    2405              3516        7844\n",
       "3  13265  1196     4221    6404               507        1788\n",
       "4  22615  5410     7198    3915              1777        5185"
      ]
     },
     "metadata": {},
     "output_type": "display_data"
    }
   ],
   "source": [
    "data = pd.read_csv(\"Wholesale customers data.csv\")\n",
    "display(data.head())\n",
    "data = data.drop([\"Channel\", \"Region\"], axis=1)\n",
    "display(data.head())"
   ]
  },
  {
   "cell_type": "code",
   "execution_count": 9,
   "metadata": {},
   "outputs": [],
   "source": [
    "from sklearn.decomposition import PCA\n",
    "pca = PCA(n_components = 2)\n",
    "pca = pca.fit(data)\n",
    "data_pca = pca.transform(data)"
   ]
  },
  {
   "cell_type": "code",
   "execution_count": 34,
   "metadata": {},
   "outputs": [
    {
     "name": "stdout",
     "output_type": "stream",
     "text": [
      "[0.45961362 0.40517227 0.07003008 0.04402344 0.01502212 0.00613848]\n",
      "(6,)\n"
     ]
    },
    {
     "data": {
      "image/png": "[encoded data removed]",
      "text/plain": [
       "<Figure size 432x288 with 1 Axes>"
      ]
     },
     "metadata": {
      "needs_background": "light"
     },
     "output_type": "display_data"
    }
   ],
   "source": [
    "pca = PCA(n_components=None)\n",
    "pca = pca.fit(data)\n",
    "var_exp = pca.explained_variance_ratio_\n",
    "print(var_exp)\n",
    "cum_var_exp = np.cumsum(var_exp)\n",
    "print(cum_var_exp.shape)\n",
    "plt.bar(range(1,7), var_exp, alpha=0.5, align='center', label='individual explained variance')\n",
    "plt.step(range(1,7), cum_var_exp, where='mid', label='cumulative expalined variance')\n",
    "plt.ylabel('Explained variance ratio')\n",
    "plt.xlabel('Principal components')\n",
    "plt.hlines(0.7, 0, 6,  \"blue\", linestyles='dashed')\n",
    "plt.legend(loc='best')\n",
    "plt.grid()\n",
    "plt.show()"
   ]
  },
  {
   "cell_type": "markdown",
   "metadata": {},
   "source": [
    "＿＿＿＿＿＿＿＿＿＿＿＿＿＿＿＿＿＿＿＿＿＿＿＿＿＿＿＿＿＿＿＿＿＿＿＿＿＿＿＿＿＿＿＿＿＿＿＿＿＿＿＿＿＿\n",
    "### 【問題10】クラスタ数kの選択\n",
    "最適だと思われるクラスタ数 $k$ を選択してください。エルボー法やシルエット図を活用する他、人間が後々どう利用したいのかも選択に関わってきます。選択した上で、なぜそれを選んだか説明してください。"
   ]
  },
  {
   "cell_type": "code",
   "execution_count": 36,
   "metadata": {},
   "outputs": [
    {
     "data": {
      "image/png": "[encoded data removed]",
      "text/plain": [
       "<Figure size 432x288 with 1 Axes>"
      ]
     },
     "metadata": {
      "needs_background": "light"
     },
     "output_type": "display_data"
    }
   ],
   "source": [
    "#X = data.values\n",
    "sse_array = np.empty(data_pca.shape[0]-1)\n",
    "for k in range(1, data_pca.shape[0]):\n",
    "    classifier = ScratchKMeans(n_clusters=k, n_init=4, max_iter=20, tol=0.0001, verbose=False)\n",
    "    classifier.fit(data_pca)\n",
    "    sse_array[k-1] = classifier.best_sse\n",
    "\n",
    "plt.title('Elbow method curve')\n",
    "plt.xlabel('k')\n",
    "plt.ylabel('SSE')\n",
    "plt.plot(np.arange(1, 11), sse_array[0:10])\n",
    "plt.show()"
   ]
  },
  {
   "cell_type": "code",
   "execution_count": 41,
   "metadata": {},
   "outputs": [
    {
     "data": {
      "image/png": "[encoded data removed]",
      "text/plain": [
       "<Figure size 432x288 with 1 Axes>"
      ]
     },
     "metadata": {
      "needs_background": "light"
     },
     "output_type": "display_data"
    }
   ],
   "source": [
    "colors = ['red', 'blue', 'green', 'yellow', 'black', 'pink', 'purple']\n",
    "classifier = ScratchKMeans(n_clusters=4, n_init=4, max_iter=20, tol=1e-5, verbose=False)\n",
    "classifier.fit(data_pca)\n",
    "y_pred = classifier.predict(data_pca)\n",
    "\n",
    "for i in range(classifier.n_clusters):\n",
    "    plt.scatter(data_pca[y_pred==i, 0], data_pca[y_pred==i, 1], color=colors[i], label=i)\n",
    "    plt.scatter(classifier.best_mu[i, 0], classifier.best_mu[i, 1], color=colors[i], marker='x')\n",
    "plt.xlabel('x0')\n",
    "plt.ylabel('x1)')\n",
    "plt.legend()\n",
    "plt.show()"
   ]
  },
  {
   "cell_type": "markdown",
   "metadata": {},
   "source": [
    "### 【解答】\n",
    "エルボー図では緩やかなカーブを描いているため判断しがたいが、余り多いクラスタではデータとして使いずらいと思われるためK-4で設定した"
   ]
  },
  {
   "cell_type": "markdown",
   "metadata": {},
   "source": [
    "＿＿＿＿＿＿＿＿＿＿＿＿＿＿＿＿＿＿＿＿＿＿＿＿＿＿＿＿＿＿＿＿＿＿＿＿＿＿＿＿＿＿＿＿＿＿＿＿＿＿＿＿＿＿\n",
    "### 【問題11】既知のグループとの比較\n",
    "RegionとChannelはK-meansに使用しなかったが、これれらは既知のグループです。クラスタとこれら既知のグループがどう違うかを確認し、説明してください。まずはそれぞれを可視化してください。"
   ]
  },
  {
   "cell_type": "code",
   "execution_count": 53,
   "metadata": {
    "scrolled": true
   },
   "outputs": [
    {
     "data": {
      "image/png": "[encoded data removed]",
      "text/plain": [
       "<Figure size 432x288 with 1 Axes>"
      ]
     },
     "metadata": {
      "needs_background": "light"
     },
     "output_type": "display_data"
    },
    {
     "data": {
      "image/png": "[encoded data removed]",
      "text/plain": [
       "<Figure size 432x288 with 1 Axes>"
      ]
     },
     "metadata": {
      "needs_background": "light"
     },
     "output_type": "display_data"
    }
   ],
   "source": [
    "data = pd.read_csv(\"Wholesale customers data.csv\")\n",
    "#display(data.head())\n",
    "channel = data[\"Channel\"]\n",
    "region = data[\"Region\"]\n",
    "\n",
    "colors = ['red', 'blue', 'green', 'yellow', 'black', 'pink', 'purple']\n",
    "#classifier = ScratchKMeans(n_clusters=4, n_init=4, max_iter=20, tol=1e-5, verbose=False)\n",
    "#classifier.fit(data_pca)\n",
    "#y_pred = classifier.predict(data_pca)\n",
    "\n",
    "for i in range(1, 3):\n",
    "    plt.scatter(data_pca[channel==i, 0], data_pca[channel==i, 1], color=colors[i], label=i)\n",
    "    plt.scatter(classifier.best_mu[i, 0], classifier.best_mu[i, 1], color=colors[i], marker='x')\n",
    "plt.xlabel('x0')\n",
    "plt.ylabel('x1)')\n",
    "plt.legend()\n",
    "plt.show()\n",
    "\n",
    "for i in range(1, 4):\n",
    "    plt.scatter(data_pca[region==i, 0], data_pca[region==i, 1], color=colors[i], label=i)\n",
    "    plt.scatter(classifier.best_mu[i, 0], classifier.best_mu[i, 1], color=colors[i], marker='x')\n",
    "plt.xlabel('x0')\n",
    "plt.ylabel('x1)')\n",
    "plt.legend()\n",
    "plt.show()"
   ]
  },
  {
   "cell_type": "markdown",
   "metadata": {},
   "source": [
    "### 【解答】\n",
    "Channelは金額の多寡によって分類しているように見える。Regionは地域ごとの分類と思われるが可視化する限りでは地域差は見られない。クラスタはこれらより細かい区分けができている。"
   ]
  },
  {
   "cell_type": "markdown",
   "metadata": {},
   "source": [
    "＿＿＿＿＿＿＿＿＿＿＿＿＿＿＿＿＿＿＿＿＿＿＿＿＿＿＿＿＿＿＿＿＿＿＿＿＿＿＿＿＿＿＿＿＿＿＿＿＿＿＿＿＿＿\n",
    "### 【問題12】卸売業者にとって有益な情報\n",
    "卸売業者にとって有益な情報を探し出し文章にまとめてください。\n",
    "\n",
    "#### 《ヒント》\n",
    "\n",
    "前処理を行う前のデータを使い、各クラスタの要約統計量を見るなどしてみましょう。また、PCAで次元削減したデータに対してK-meansを使用しましたが、6個の特徴量をそのまま使ったり、一部の特徴量のみを使ったりということも試してみてください。既知のグループとの比較結果も参考にしてください。\n",
    "\n",
    "条件ごとにデータを見る際にはPandasのgroupbyが便利です。\n",
    "\n",
    "[pandas.DataFrame.groupby — pandas 0.23.4 documentation](https://pandas.pydata.org/pandas-docs/stable/reference/api/pandas.DataFrame.groupby.html)"
   ]
  },
  {
   "cell_type": "code",
   "execution_count": 73,
   "metadata": {},
   "outputs": [
    {
     "name": "stdout",
     "output_type": "stream",
     "text": [
      "Index(['Fresh', 'Milk', 'Grocery', 'Frozen', 'Detergents_Paper', 'Delicassen'], dtype='object')\n"
     ]
    },
    {
     "data": {
      "image/png": "[encoded data removed]",
      "text/plain": [
       "<Figure size 432x288 with 1 Axes>"
      ]
     },
     "metadata": {
      "needs_background": "light"
     },
     "output_type": "display_data"
    },
    {
     "data": {
      "image/png": "[encoded data removed]",
      "text/plain": [
       "<Figure size 432x288 with 1 Axes>"
      ]
     },
     "metadata": {
      "needs_background": "light"
     },
     "output_type": "display_data"
    },
    {
     "data": {
      "image/png": "[encoded data removed]",
      "text/plain": [
       "<Figure size 432x288 with 1 Axes>"
      ]
     },
     "metadata": {
      "needs_background": "light"
     },
     "output_type": "display_data"
    },
    {
     "data": {
      "image/png": "[encoded data removed]",
      "text/plain": [
       "<Figure size 432x288 with 1 Axes>"
      ]
     },
     "metadata": {
      "needs_background": "light"
     },
     "output_type": "display_data"
    },
    {
     "data": {
      "image/png": "[encoded data removed]",
      "text/plain": [
       "<Figure size 432x288 with 1 Axes>"
      ]
     },
     "metadata": {
      "needs_background": "light"
     },
     "output_type": "display_data"
    },
    {
     "data": {
      "image/png": "[encoded data removed]",
      "text/plain": [
       "<Figure size 432x288 with 1 Axes>"
      ]
     },
     "metadata": {
      "needs_background": "light"
     },
     "output_type": "display_data"
    }
   ],
   "source": [
    "import seaborn as sns\n",
    "data = pd.read_csv(\"Wholesale customers data.csv\")\n",
    "data = data.drop([\"Channel\", \"Region\"], axis=1)\n",
    "\n",
    "for column in data.columns:\n",
    "    sns.boxplot(x=y_pred, y=column, data=data)\n",
    "    plt.show()"
   ]
  },
  {
   "cell_type": "markdown",
   "metadata": {},
   "source": [
    "### 【解答】\n",
    "- delicassenはクラスタによる差はほとんど見られない\n",
    "- freshはクラスタがきれいに分かれている。\n",
    "- milk、grocery、detergents_paperはクラスタ0は顕著に差が出ている。"
   ]
  },
  {
   "cell_type": "markdown",
   "metadata": {},
   "source": [
    "## 4.他の非階層クラスタリング手法\n",
    "＿＿＿＿＿＿＿＿＿＿＿＿＿＿＿＿＿＿＿＿＿＿＿＿＿＿＿＿＿＿＿＿＿＿＿＿＿＿＿＿＿＿＿＿＿＿＿＿＿＿＿＿＿＿\n",
    "### 【問題13】（アドバンス課題）他の手法の調査\n",
    "今回扱ったK-means以外に非階層クラスタリングで有名な手法としては **DBSCAN** 、\n",
    "**PCA**以外に次元削減手法で有名な手法としては **t-SNE** や **LLE** があります。\n",
    "\n",
    "- DBSCANのメリット・デメリット\n",
    "- t-SNE、LLEのメリット・デメリット\n",
    "\n",
    "について記述してください。"
   ]
  },
  {
   "cell_type": "markdown",
   "metadata": {},
   "source": [
    "### 【問題14】（アドバンス課題）t-SNEとDBSCANの利用\n",
    "Wholesale customersのデータに対して、PCAではなく、 **t-SNE** を用いて次元削減をしてください。さらにK-meansではなく、 **DBSCAN** を用いてクラスタリングしてください。\n",
    "\n",
    "そのクラスタリング結果をPCA+kmeansの場合の結果と比較してみましょう。実装にはscikit-learnを用いてください。\n",
    "\n",
    "[sklearn.manifold.TSNE — scikit-learn 0.20.2 documentation](https://scikit-learn.org/stable/modules/generated/sklearn.manifold.TSNE.html)\n",
    "\n",
    "[sklearn.cluster.DBSCAN — scikit-learn 0.20.2 documentation](https://scikit-learn.org/stable/modules/generated/sklearn.cluster.DBSCAN.html)\n",
    "\n",
    "#### 《パラメーターチューニング》\n",
    "\n",
    "これらはK-meansやPCAに比べパラメーターチューニングが難しい手法です。scikit-learnのドキュメントと共に論文も参考にしながらパラメータの意味を確認することも大切になります。\n",
    "\n",
    "[t-SNEの論文](http://www.jmlr.org/papers/volume9/vandermaaten08a/vandermaaten08a.pdf)\n",
    "\n",
    "[DBSCANの論文](https://www.aaai.org/Papers/KDD/1996/KDD96-037.pdf)"
   ]
  }
 ],
 "metadata": {
  "kernelspec": {
   "display_name": "Python 3",
   "language": "python",
   "name": "python3"
  },
  "language_info": {
   "codemirror_mode": {
    "name": "ipython",
    "version": 3
   },
   "file_extension": ".py",
   "mimetype": "text/x-python",
   "name": "python",
   "nbconvert_exporter": "python",
   "pygments_lexer": "ipython3",
   "version": "3.7.3"
  }
 },
 "nbformat": 4,
 "nbformat_minor": 2
}
