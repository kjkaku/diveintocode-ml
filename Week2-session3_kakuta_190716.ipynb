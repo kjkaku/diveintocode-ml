{
 "cells": [
  {
   "cell_type": "code",
   "execution_count": 1,
   "metadata": {},
   "outputs": [],
   "source": [
    "import numpy as np\n",
    "import matplotlib.pyplot as plt"
   ]
  },
  {
   "cell_type": "markdown",
   "metadata": {},
   "source": [
    "## Week2 授業前課題3 行列積のスクラッチ"
   ]
  },
  {
   "cell_type": "code",
   "execution_count": 2,
   "metadata": {},
   "outputs": [],
   "source": [
    "a_ndarray = np.array([[-1, 2, 3], \n",
    "                      [4, -5, 6], \n",
    "                      [7, 8, -9]])\n",
    "\n",
    "b_ndarray = np.array([[0, 2, 1],\n",
    "                      [0, 2, -8],\n",
    "                      [2, 9, -1]])"
   ]
  },
  {
   "cell_type": "markdown",
   "metadata": {},
   "source": [
    "＿＿＿＿＿＿＿＿＿＿＿＿＿＿＿＿＿＿＿＿＿＿＿＿＿＿＿＿＿＿＿＿＿＿＿＿＿＿＿＿＿＿＿＿＿＿＿＿＿＿＿＿＿＿\n",
    "### 【問題1】行列積を手計算する\n",
    "AとBの行列積を手計算で解いてください。\n",
    "計算過程もマークダウンテキストを用いて説明してください。"
   ]
  },
  {
   "cell_type": "markdown",
   "metadata": {},
   "source": [
    "#### A + B = \n",
    "#### [[(-1x0 + 2x0 + 3x2), (-1x2 + 2x2 + 3x9), (-1x1 + 2x-8 + 3x-1)],\n",
    "####  [(4x0 + -5x0 + 6x2), (4x2 + -5x2 + 6x9), (4x1 + -5x-8 + 6x-1)],\n",
    "####  [(7x0 + 8x0 + -9x2), (7x2 + 8x2 + -9x 9), (7x1 + 8x-8 + -9x-1)]]\n",
    " \n",
    "#### =\n",
    " \n",
    "#### [[(0 + 0 + 6), (-2 + 4 + 27), (-1 - 16 - 3)]\n",
    "####  [(0 + 0 + 12), (8 - 10 + 54), (4 + 40 - 6)]\n",
    "####  [(0 + 0 - 18), (14 + 16 - 81), (7 - 64 + 9)]]\n",
    "  \n",
    "####  =\n",
    "  \n",
    "####  [[6, 29, -20]\n",
    "####   [12, 52, 38]\n",
    "####   [-18, -51, -48]]\n"
   ]
  },
  {
   "cell_type": "markdown",
   "metadata": {},
   "source": [
    "＿＿＿＿＿＿＿＿＿＿＿＿＿＿＿＿＿＿＿＿＿＿＿＿＿＿＿＿＿＿＿＿＿＿＿＿＿＿＿＿＿＿＿＿＿＿＿＿＿＿＿＿＿＿\n",
    "### 【問題2】NumPyの関数による計算\n",
    "この行列積はNumPyのnp.matmul()やnp.dot()、または@演算子を使うことで簡単に計算できます。\n",
    "\n",
    "これらを使い行列積を計算してください。\n",
    "\n",
    "■3種類の違い\n",
    "\n",
    "np.matmul()とnp.dot()は3次元以上の配列で挙動が変わります。@演算子はnp.matmul()と同じ働きをします。\n",
    "\n",
    "今回のような2次元配列の行列積ではnp.matmul()や@演算子が公式に推奨されています。"
   ]
  },
  {
   "cell_type": "code",
   "execution_count": 3,
   "metadata": {},
   "outputs": [
    {
     "name": "stdout",
     "output_type": "stream",
     "text": [
      "[[  6  29 -20]\n",
      " [ 12  52  38]\n",
      " [-18 -51 -48]]\n"
     ]
    }
   ],
   "source": [
    "a_ndarray = np.array([[-1, 2, 3], \n",
    "                      [4, -5, 6], \n",
    "                      [7, 8, -9]])\n",
    "\n",
    "b_ndarray = np.array([[0, 2, 1],\n",
    "                      [0, 2, -8],\n",
    "                      [2, 9, -1]])\n",
    "\n",
    "print(np.matmul(a_ndarray, b_ndarray))"
   ]
  },
  {
   "cell_type": "code",
   "execution_count": 4,
   "metadata": {},
   "outputs": [
    {
     "name": "stdout",
     "output_type": "stream",
     "text": [
      "[[  6  29 -20]\n",
      " [ 12  52  38]\n",
      " [-18 -51 -48]]\n"
     ]
    }
   ],
   "source": [
    "print(np.dot(a_ndarray, b_ndarray))"
   ]
  },
  {
   "cell_type": "code",
   "execution_count": 5,
   "metadata": {},
   "outputs": [
    {
     "name": "stdout",
     "output_type": "stream",
     "text": [
      "[[  6  29 -20]\n",
      " [ 12  52  38]\n",
      " [-18 -51 -48]]\n"
     ]
    }
   ],
   "source": [
    "print(a_ndarray @ b_ndarray)"
   ]
  },
  {
   "cell_type": "markdown",
   "metadata": {},
   "source": [
    "＿＿＿＿＿＿＿＿＿＿＿＿＿＿＿＿＿＿＿＿＿＿＿＿＿＿＿＿＿＿＿＿＿＿＿＿＿＿＿＿＿＿＿＿＿＿＿＿＿＿＿＿＿＿\n",
    "#### 【問題3】ある要素の計算を実装\n",
    "手計算をする際はまず行列Aの0行目と行列Bの0列目に注目し、以下の計算を行ったかと思います。\n",
    "\n",
    "##### ・行列Aの(0,0)の要素a0,0と行列Bの(0,0)の要素b0,0を掛け合わせる\n",
    "##### ・行列Aの(0,1)の要素a0,1と行列Bの(1,0)の要素a1,0を掛け合わせる\n",
    "##### ・行列Aの(0,2)の要素a0,2と行列Bの(2,0)の要素a2,0を掛け合わせる\n",
    "##### ・それらの値を全て足し合わせる\n",
    "\n",
    "この計算をnp.matmul()やnp.dot()、または@演算子を使わずに行うコードを書いてください。"
   ]
  },
  {
   "cell_type": "code",
   "execution_count": 6,
   "metadata": {},
   "outputs": [
    {
     "name": "stdout",
     "output_type": "stream",
     "text": [
      "6\n"
     ]
    }
   ],
   "source": [
    "a_ndarray = np.array([[-1, 2, 3], \n",
    "                      [4, -5, 6],\n",
    "                      [7, 8, -9]])\n",
    "\n",
    "b_ndarray = np.array([[0, 2, 1],\n",
    "                      [0, 2, -8],\n",
    "                      [2, 9, -1]])\n",
    "\n",
    "list_ndarray = []\n",
    "\n",
    "for i in range(np.shape(a_ndarray)[1]):\n",
    "    list_ndarray.append(a_ndarray[0, i] * b_ndarray[i, 0])\n",
    "    \n",
    "sum_ndarray = sum(list_ndarray)\n",
    "\n",
    "print(sum_ndarray)"
   ]
  },
  {
   "cell_type": "markdown",
   "metadata": {},
   "source": [
    "＿＿＿＿＿＿＿＿＿＿＿＿＿＿＿＿＿＿＿＿＿＿＿＿＿＿＿＿＿＿＿＿＿＿＿＿＿＿＿＿＿＿＿＿＿＿＿＿＿＿＿＿＿＿\n",
    "### 【問題4】行列積を行う関数の作成\n",
    "問題3のコードを拡張し、行列積のスクラッチ実装を完成させてください。行列AとBを引数に受け取り、行列積を返す関数としてください。\n",
    "行列積を計算する場合は、問題3の計算を異なる行や列に対して繰り返していくことになります。\n",
    "計算結果である \n",
    "3×3 の行列Cの各要素 cij は数式で表すと次のようになります。\n",
    "for文を使い、ndarrayのインデックスを動かしていくことで、合計9つの要素が計算できます。インデックス \n",
    "iやjを1増やすと、次の行や列に移ることができます。"
   ]
  },
  {
   "cell_type": "code",
   "execution_count": 7,
   "metadata": {},
   "outputs": [
    {
     "name": "stdout",
     "output_type": "stream",
     "text": [
      "[[  6  29 -20]\n",
      " [ 12  52  38]\n",
      " [-18 -51 -48]]\n"
     ]
    }
   ],
   "source": [
    "a_ndarray = np.array([[-1, 2, 3], \n",
    "                      [4, -5, 6],\n",
    "                      [7, 8, -9]])\n",
    "\n",
    "b_ndarray = np.array([[0, 2, 1],\n",
    "                      [0, 2, -8],\n",
    "                      [2, 9, -1]])\n",
    "\n",
    "\n",
    "x_ndarray = np.array([[1, 2, 3],\n",
    "                      [4, 5, 6]])\n",
    "y_ndarray = np.array([[1],\n",
    "                      [2],\n",
    "                      [3]])\n",
    "\n",
    "def multiplicate_matrix(ndarray1, ndarray2):\n",
    "    row1 = np.shape(ndarray1)[0] # a_ndarrayの行数\n",
    "    col1 = np.shape(ndarray1)[1] # a_ndarrayの列数\n",
    "    row2 = np.shape(ndarray2)[0] # b_ndarrayの行数\n",
    "    col2 = np.shape(ndarray2)[1] # b_ndarrayの列数\n",
    "    list_num = [] # 各要素ごとの計算途中式を格納するリスト\n",
    "    list_matrix = [] # 各要素ごとの計算結果を格納するリスト\n",
    "    \n",
    "    for i in range(row1):\n",
    "        for j in range(col2):\n",
    "            for k in range(col1):\n",
    "                if k < col1-1:\n",
    "                    list_num.append(ndarray1[i, k] * ndarray2[k, j])\n",
    "                    \n",
    "                else:\n",
    "                    list_num.append(ndarray1[i, k] * ndarray2[k, j])\n",
    "                    list_matrix.append(sum(list_num))\n",
    "                    list_num.clear() # リストの要素を削除して初期化\n",
    "                    \n",
    "    multiplicate_matrix_ndarray = np.array(list_matrix).reshape(row1, col2) # list_matrixをndarrayにし、m×l型に変換\n",
    "    \n",
    "    return multiplicate_matrix_ndarray\n",
    "\n",
    "ndarray1 = a_ndarray\n",
    "ndarray2 = b_ndarray\n",
    "multiplicated_matrix = multiplicate_matrix(ndarray1, ndarray2)\n",
    "\n",
    "print(multiplicated_matrix)"
   ]
  },
  {
   "cell_type": "markdown",
   "metadata": {},
   "source": [
    "＿＿＿＿＿＿＿＿＿＿＿＿＿＿＿＿＿＿＿＿＿＿＿＿＿＿＿＿＿＿＿＿＿＿＿＿＿＿＿＿＿＿＿＿＿＿＿＿＿＿＿＿＿＿\n",
    "### 【問題5】計算が定義されない入力を判定する\n",
    "問題4で作成した関数は、実装方法によってはこのDとEの配列を入力しても動いてしまう可能性があります。この場合、不適切な計算が行われることになります。また、途中でエラーになる場合でも、なぜエラーになったかが直接的には分かりづらいメッセージが表示されます。\n",
    "if文などによってこれを防ぎ、入力される形に問題があることをprint()を使い表示するコードを書き加えてください。"
   ]
  },
  {
   "cell_type": "code",
   "execution_count": 8,
   "metadata": {},
   "outputs": [
    {
     "name": "stdout",
     "output_type": "stream",
     "text": [
      "エラー：行列Ａの列数( 3 列)と行列Ｂの行数( 2 行)が一致しないため行列積は定義できません\n"
     ]
    }
   ],
   "source": [
    "d_ndarray = np.array([[-1, 2, 3],\n",
    "                    [4, -5, 6]])\n",
    "e_ndarray = np.array([[-9, 8, 7],\n",
    "                      [6, -5, 4]])\n",
    "\n",
    "def multiplicate_matrix(ndarray1, ndarray2):\n",
    "    row1 = np.shape(ndarray1)[0] # a_ndarrayの行数\n",
    "    col1 = np.shape(ndarray1)[1] # a_ndarrayの列数\n",
    "    row2 = np.shape(ndarray2)[0] # b_ndarrayの行数\n",
    "    col2 = np.shape(ndarray2)[1] # b_ndarrayの列数\n",
    "    list_num = [] # 各要素ごとの計算途中式を格納するリスト\n",
    "    list_matrix = [] # 各要素ごとの計算結果を格納するリスト\n",
    "    \n",
    "    if col1 != row2:\n",
    "        return (\"エラー：行列Ａの列数( {} 列)と行列Ｂの行数( {} 行)が一致しないため行列積は定義できません\".format(col1, row2))\n",
    "        \n",
    "    else:\n",
    "        for i in range(row1):\n",
    "            for j in range(col2):\n",
    "                for k in range(col1):\n",
    "                    if k < col1-1:\n",
    "                        list_num.append(ndarray1[i, k] * ndarray2[k, j])\n",
    "\n",
    "                    else:\n",
    "                        list_num.append(ndarray1[i, k] * ndarray2[k, j])\n",
    "                        list_matrix.append(sum(list_num))\n",
    "                        list_num.clear() # リストの要素を削除して初期化\n",
    "\n",
    "        multiplicate_matrix_ndarray = np.array(list_matrix).reshape(row1, col2) # list_matrixをndarrayにし、m×l型に変換\n",
    "\n",
    "        return multiplicate_matrix_ndarray\n",
    "\n",
    "ndarray1 = d_ndarray\n",
    "ndarray2 = e_ndarray\n",
    "\n",
    "multiplicated_matrix = multiplicate_matrix(ndarray1, ndarray2)\n",
    "\n",
    "print(multiplicated_matrix)"
   ]
  },
  {
   "cell_type": "markdown",
   "metadata": {},
   "source": [
    "＿＿＿＿＿＿＿＿＿＿＿＿＿＿＿＿＿＿＿＿＿＿＿＿＿＿＿＿＿＿＿＿＿＿＿＿＿＿＿＿＿＿＿＿＿＿＿＿＿＿＿＿＿＿\n",
    "### 【問題6】転置\n",
    "片方の行列を転置することで、行列積が計算できるようになります。\n",
    "np.transpose()や.Tアトリビュートを用いて転置し、行列積を計算してください。"
   ]
  },
  {
   "cell_type": "code",
   "execution_count": 9,
   "metadata": {},
   "outputs": [
    {
     "name": "stdout",
     "output_type": "stream",
     "text": [
      "[[ 33 -28   9]\n",
      " [-48  41  -6]\n",
      " [  9  -6  45]]\n"
     ]
    }
   ],
   "source": [
    "d_ndarray = np.array([[-1, 2, 3],\n",
    "                    [4, -5, 6]])\n",
    "e_ndarray = np.array([[-9, 8, 7],\n",
    "                      [6, -5, 4]])\n",
    "\n",
    "d_ndarray = d_ndarray.T # d_ndarrayを転置\n",
    "\n",
    "ndarray1 = d_ndarray\n",
    "ndarray2 = e_ndarray\n",
    "\n",
    "multiplicated_matrix = multiplicate_matrix(ndarray1, ndarray2)\n",
    "\n",
    "print(multiplicated_matrix)"
   ]
  }
 ],
 "metadata": {
  "kernelspec": {
   "display_name": "Python 3",
   "language": "python",
   "name": "python3"
  },
  "language_info": {
   "codemirror_mode": {
    "name": "ipython",
    "version": 3
   },
   "file_extension": ".py",
   "mimetype": "text/x-python",
   "name": "python",
   "nbconvert_exporter": "python",
   "pygments_lexer": "ipython3",
   "version": "3.7.3"
  }
 },
 "nbformat": 4,
 "nbformat_minor": 2
}
