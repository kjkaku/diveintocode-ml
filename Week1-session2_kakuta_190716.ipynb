{
 "cells": [
  {
   "cell_type": "code",
   "execution_count": 1,
   "metadata": {},
   "outputs": [],
   "source": [
    "import math"
   ]
  },
  {
   "cell_type": "markdown",
   "metadata": {},
   "source": [
    "# Week1 授業課題2 何回折ったら富士山を越えるか問題\n",
    "　Pythonを使ってみよう」の問題では「1枚の紙を43回折り曲げた時の厚さを計算するプログラム」を作成し、43回折ることで月に届くことが確認できました。ここで「何回折ったらある厚さになるのか」という疑問が生まれます。こういったことを計算するプログラムを作成していきましょう。紙を折った時の厚さの数式授業前課題と同様ですが確認しておきます。\n",
    "n回折った紙の厚さtnは以下のように表せます。\n",
    "\n",
    "tn = t0 * 2**t\n",
    "\n",
    "折る前の紙の厚さ \n",
    "t0は0.00008mとします。一般的なコピー用紙の厚さです。"
   ]
  },
  {
   "cell_type": "markdown",
   "metadata": {},
   "source": [
    "＿＿＿＿＿＿＿＿＿＿＿＿＿＿＿＿＿＿＿＿＿＿＿＿＿＿＿＿＿＿＿＿＿＿＿＿＿＿＿＿＿＿＿＿＿＿＿＿＿＿＿＿＿＿\n",
    "## 【問題1】富士山を超える最小の折る回数\n",
    "　厚さが「富士山(3776m)」を超えるのは何回紙を折った時か計算するプログラムを作成してください。"
   ]
  },
  {
   "cell_type": "code",
   "execution_count": 2,
   "metadata": {},
   "outputs": [
    {
     "name": "stdout",
     "output_type": "stream",
     "text": [
      "折った紙の厚さが富士山を超えるのは、紙を 26 回折ったときである。\n"
     ]
    }
   ],
   "source": [
    "THICKNESS = 0.00008 # 一般的なコピー用紙の厚さ(m)\n",
    "FUJI_HEIGHT = 3776 # 富士山の高さ(m)\n",
    "num = 0\n",
    "\n",
    "while True:\n",
    "    folded_thickness = THICKNESS * 2**num\n",
    "    if folded_thickness > FUJI_HEIGHT:\n",
    "        break\n",
    "    num += 1\n",
    "\n",
    "print(\"折った紙の厚さが富士山を超えるのは、紙を {} 回折ったときである。\".format(num))"
   ]
  },
  {
   "cell_type": "markdown",
   "metadata": {},
   "source": [
    "＿＿＿＿＿＿＿＿＿＿＿＿＿＿＿＿＿＿＿＿＿＿＿＿＿＿＿＿＿＿＿＿＿＿＿＿＿＿＿＿＿＿＿＿＿＿＿＿＿＿＿＿＿＿\n",
    "## 【問題2】任意の厚さに対応した関数を作成\n",
    "　距離を入力すると、何回折った時に超えるかを出力する関数を作成してください。引数として、折る前の厚さt0も設定できるようにしましょう。この関数を利用して「最も近い太陽以外の恒星」に到達するには紙を何回折る必要があるか計算してください。「最も近い太陽以外の恒星」の距離は調査してください。"
   ]
  },
  {
   "cell_type": "code",
   "execution_count": 3,
   "metadata": {},
   "outputs": [
    {
     "name": "stdout",
     "output_type": "stream",
     "text": [
      "紙を 69 回折った時に最も近い太陽以外の恒星であるケンタウロス座アルファ星までの距離を超える。\n"
     ]
    }
   ],
   "source": [
    "THICKNESS = 0.00008 # 一般的なコピー用紙の厚さ(m)\n",
    "ONE_LIGHT_YEAR = 9460730472580800 # 1光年をmに直す\n",
    "DISTANCE_CENTAURUS_ALPHA = 4.3 * ONE_LIGHT_YEAR # 太陽以外で最も近い恒星 ケンタウロス座アルファ星までの距離4.3光年をmに変換\n",
    "FUJI_HEIGHT = 3776\n",
    "\n",
    "thickness = THICKNESS # 折る前の紙の厚さの初期値を設定\n",
    "\n",
    "def get_fold_times(thickness, distance):\n",
    "    num = 0\n",
    "    while thickness < distance:\n",
    "        num += 1\n",
    "        thickness *= 2\n",
    "        \n",
    "    return num\n",
    "    \n",
    "centaurus_fold_times = get_fold_times(thickness, DISTANCE_CENTAURUS_ALPHA)\n",
    "\n",
    "print(\"紙を {} 回折った時に最も近い太陽以外の恒星であるケンタウロス座アルファ星までの距離を超える。\".format(centaurus_fold_times))\n",
    "    \n",
    "    "
   ]
  },
  {
   "cell_type": "markdown",
   "metadata": {},
   "source": [
    "＿＿＿＿＿＿＿＿＿＿＿＿＿＿＿＿＿＿＿＿＿＿＿＿＿＿＿＿＿＿＿＿＿＿＿＿＿＿＿＿＿＿＿＿＿＿＿＿＿＿＿＿＿＿\n",
    "## 【問題3】必要な紙の長さ\n",
    "　実際のところ身近にある紙は43回はおろか10回も折れません。しかし、大きな紙ほどたくさん折ることができ、トイレットペーパーのような長い紙を一方向に折ることを考えた時の折れる回数を求める公式が存在します。\n",
    "\n",
    "厚さt0の紙をn回折るために必要な紙の長さLは以下の公式で求まります。\n",
    "\n",
    "L = π * t0 / 6 * (2 ** n + 4) * (2 ** n - 1)\n",
    "\n",
    "この公式を利用して、実際に紙を折り任意の厚さに到達するために必要な紙の長さを求める関数を作成してください。\n",
    "そしてこれを使って「月」「富士山」「最も近い太陽以外の恒星」に届くために必要な紙の長さを求めてください。"
   ]
  },
  {
   "cell_type": "code",
   "execution_count": 4,
   "metadata": {
    "scrolled": true
   },
   "outputs": [
    {
     "name": "stdout",
     "output_type": "stream",
     "text": [
      "富士山 まで到達するのは、紙を 26 回折った時であり、その時の紙の厚さは 188646348487.24 mである\n",
      "月 まで到達するのは、紙を 43 回折った時であり、その時の紙の厚さは 3240919444170781229056.00 mである\n",
      "ケンタウロス座アルファ星 まで到達するのは、紙を 69 回折った時であり、その時の紙の厚さは 14595803601100347983589756318297096192.00 mである\n"
     ]
    }
   ],
   "source": [
    "THICKNESS = 0.00008 # 一般的なコピー用紙の厚さ(m)\n",
    "FUJI_HEIGHT = 3776 # 富士山の高さ(m)\n",
    "DISTANCE_MOON = 384400000 # 月までの距離(m)\n",
    "ONE_LIGHT_YEAR = 9460730472580800 # 1光年をmに直す\n",
    "DISTANCE_CENTAURUS_ALPHA = 4.3 * ONE_LIGHT_YEAR # 太陽以外で最も近い恒星 ケンタウロス座アルファ星までの距離4.3光年をmに変換\n",
    "\n",
    "thickness = THICKNESS # 折る前の紙の厚さの初期値を設定\n",
    "\n",
    "def get_fold_times(thickness, distance):\n",
    "    num = 0\n",
    "    while thickness < distance:\n",
    "        num += 1\n",
    "        thickness *= 2\n",
    "        \n",
    "    return num\n",
    "\n",
    "def get_length(thickness, num):\n",
    "    pi = math.pi\n",
    "    length = pi * thickness / 6 * (2**num + 4) * (2**num - 1)\n",
    "    return length\n",
    "\n",
    "going_to_fuji = [\"富士山\", get_fold_times(thickness, FUJI_HEIGHT),\n",
    "                 get_length(thickness,\n",
    "                 get_fold_times(thickness, FUJI_HEIGHT))]\n",
    "going_to_moon = [\"月\", get_fold_times(thickness, DISTANCE_MOON),\n",
    "                 get_length(thickness,\n",
    "                 get_fold_times(thickness, DISTANCE_MOON))]\n",
    "going_to_centaurus = [\"ケンタウロス座アルファ星\",\n",
    "                      get_fold_times(thickness, DISTANCE_CENTAURUS_ALPHA), \n",
    "                      get_length(thickness, get_fold_times(thickness, DISTANCE_CENTAURUS_ALPHA))]\n",
    "\n",
    "print(\"{} まで到達するのは、紙を {} 回折った時であり、その時の紙の厚さは {:.2f} mである\".format(going_to_fuji[0], \n",
    "                                                                going_to_fuji[1], going_to_fuji[2]))\n",
    "print(\"{} まで到達するのは、紙を {} 回折った時であり、その時の紙の厚さは {:.2f} mである\".format(going_to_moon[0],\n",
    "                                                                going_to_moon[1], going_to_moon[2]))\n",
    "print(\"{} まで到達するのは、紙を {} 回折った時であり、その時の紙の厚さは {:.2f} mである\".format(going_to_centaurus[0], \n",
    "                                                                going_to_centaurus[1], going_to_centaurus[2]))"
   ]
  },
  {
   "cell_type": "code",
   "execution_count": null,
   "metadata": {},
   "outputs": [],
   "source": []
  }
 ],
 "metadata": {
  "kernelspec": {
   "display_name": "Python 3",
   "language": "python",
   "name": "python3"
  },
  "language_info": {
   "codemirror_mode": {
    "name": "ipython",
    "version": 3
   },
   "file_extension": ".py",
   "mimetype": "text/x-python",
   "name": "python",
   "nbconvert_exporter": "python",
   "pygments_lexer": "ipython3",
   "version": "3.7.3"
  }
 },
 "nbformat": 4,
 "nbformat_minor": 2
}
